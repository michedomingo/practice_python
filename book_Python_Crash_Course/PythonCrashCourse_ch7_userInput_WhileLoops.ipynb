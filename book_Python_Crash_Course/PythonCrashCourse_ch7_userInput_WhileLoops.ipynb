{
 "cells": [
  {
   "cell_type": "markdown",
   "metadata": {},
   "source": [
    "# Chapter 7 - user input and while loops\n",
    "* use *while* loop to keep programs running as long as certain conditions remain true\n",
    "    * the *for* loop takes a collection of items and executes a block of code once for each item in the collection"
   ]
  },
  {
   "cell_type": "markdown",
   "metadata": {},
   "source": [
    "### input() function - pauses program and waits for user to enter info (p.114)\n",
    "* once Python recieves user's input, it assigns that input to a variable to make it convenient to work with\n",
    "* Python interprets all user input as a string"
   ]
  },
  {
   "cell_type": "code",
   "execution_count": 1,
   "metadata": {},
   "outputs": [
    {
     "name": "stdout",
     "output_type": "stream",
     "text": [
      "Please enter your name: michelle\n",
      "Hello, Michelle!\n"
     ]
    }
   ],
   "source": [
    "name = input(\"Please enter your name: \")\n",
    "print(f\"Hello, {name.title()}!\")"
   ]
  },
  {
   "cell_type": "code",
   "execution_count": 3,
   "metadata": {},
   "outputs": [
    {
     "name": "stdout",
     "output_type": "stream",
     "text": [
      "If you tell us who you are, we can personalize the message you see. What is your first name? michelle\n",
      "Hello, Michelle!\n"
     ]
    }
   ],
   "source": [
    "# to write a prompt longer than one line / multi-line string example\n",
    "prompt = \"If you tell us who you are, we can personalize the message you see. \"\n",
    "prompt += \"What is your first name? \"\n",
    "\n",
    "name = input(prompt)\n",
    "print(f\"Hello, {name.title()}!\")"
   ]
  },
  {
   "cell_type": "markdown",
   "metadata": {},
   "source": [
    "### int() function - to accept Numerical Input (p.115)\n",
    "* converts a string representation of a number to a numerical representation"
   ]
  },
  {
   "cell_type": "code",
   "execution_count": 4,
   "metadata": {},
   "outputs": [
    {
     "name": "stdout",
     "output_type": "stream",
     "text": [
      "How old are you? 39\n"
     ]
    },
    {
     "data": {
      "text/plain": [
       "True"
      ]
     },
     "execution_count": 4,
     "metadata": {},
     "output_type": "execute_result"
    }
   ],
   "source": [
    "age = input(\"How old are you? \")\n",
    "age = int(age)\n",
    "age >= 21"
   ]
  },
  {
   "cell_type": "markdown",
   "metadata": {},
   "source": [
    "### The Modulo Operator (p.116)\n",
    "* tells you what the remainder is\n",
    "    * divides one number by another number and returns the remainder\n",
    "* even numbers are always divisible by two\n",
    "    * if the modulo of a number and two is zero - the number is even\n",
    "    * otherwise, the number is odd"
   ]
  },
  {
   "cell_type": "code",
   "execution_count": 5,
   "metadata": {},
   "outputs": [
    {
     "name": "stdout",
     "output_type": "stream",
     "text": [
      "Enter a number, and I'll tell you if it's even or odd: 39\n",
      "The number 39 is odd.\n"
     ]
    }
   ],
   "source": [
    "number = int(input(\"Enter a number, and I'll tell you if it's even or odd: \"))\n",
    "\n",
    "if number % 2 == 0:\n",
    "    print(f\"The number {number} is even.\")\n",
    "else:\n",
    "    print(f\"The number {number} is odd.\")"
   ]
  },
  {
   "cell_type": "markdown",
   "metadata": {},
   "source": [
    "### the += operator (p.118)\n",
    "* shorthand for current_number = current_number + 1\n",
    "* use a while loop to count up through a series of numbers"
   ]
  },
  {
   "cell_type": "code",
   "execution_count": 6,
   "metadata": {},
   "outputs": [
    {
     "name": "stdout",
     "output_type": "stream",
     "text": [
      "1\n",
      "2\n",
      "3\n",
      "4\n",
      "5\n"
     ]
    }
   ],
   "source": [
    "current_number = 1\n",
    "while current_number <= 5:\n",
    "    print(current_number)\n",
    "    current_number += 1"
   ]
  },
  {
   "cell_type": "markdown",
   "metadata": {},
   "source": [
    "---\n",
    "### Letting the User choose when to quit (p.118)\n",
    "* the program checks before displying the message and only prints the message if it does not match the quit value"
   ]
  },
  {
   "cell_type": "code",
   "execution_count": 7,
   "metadata": {},
   "outputs": [
    {
     "name": "stdout",
     "output_type": "stream",
     "text": [
      "\n",
      "Tell me something, and I will repeat it back to you:\n",
      "Enter 'quit' to end the program. hello everyone!\n",
      "hello everyone!\n",
      "\n",
      "Tell me something, and I will repeat it back to you:\n",
      "Enter 'quit' to end the program. hello again.\n",
      "hello again.\n",
      "\n",
      "Tell me something, and I will repeat it back to you:\n",
      "Enter 'quit' to end the program. quit\n"
     ]
    }
   ],
   "source": [
    "prompt = \"\\nTell me something, and I will repeat it back to you:\"\n",
    "prompt += \"\\nEnter 'quit' to end the program. \"\n",
    "\n",
    "message = \"\"\n",
    "while message != 'quit':\n",
    "    message = input(prompt)\n",
    "    \n",
    "    if message != 'quit':\n",
    "        print(message)"
   ]
  },
  {
   "cell_type": "markdown",
   "metadata": {},
   "source": [
    "### Using a Flag (p.120)\n",
    "* for a program that should run only as long as many conditions are true, define one variable (flag)\n",
    "    * determines whether or not the entire program is active\n",
    "    * *flag* - acts as a signal to the program\n",
    "        * run while the flag is set to *True*\n",
    "        * stop running when any of several events sets the value of the flag to *False*\n",
    "    * overall while statement needs to check only one condition: whether or not the flas is currently *True*"
   ]
  },
  {
   "cell_type": "code",
   "execution_count": 8,
   "metadata": {},
   "outputs": [
    {
     "name": "stdout",
     "output_type": "stream",
     "text": [
      "\n",
      "Tell me something, and I will repeat it back to you:\n",
      "Enter 'quit' to end the program. sup\n",
      "sup\n",
      "\n",
      "Tell me something, and I will repeat it back to you:\n",
      "Enter 'quit' to end the program. quit\n"
     ]
    }
   ],
   "source": [
    "active = True\n",
    "while active:\n",
    "    message = input(prompt)\n",
    "    \n",
    "    if message == 'quit':\n",
    "        active = False\n",
    "    else:\n",
    "        print(message)"
   ]
  },
  {
   "cell_type": "markdown",
   "metadata": {},
   "source": [
    "### Using *break* statement to Exit a Loop (p.121)\n",
    "* exit a *while* loop immediately without running an remaining code in the loop, regardless of the reults of any conditional test"
   ]
  },
  {
   "cell_type": "code",
   "execution_count": 9,
   "metadata": {},
   "outputs": [
    {
     "name": "stdout",
     "output_type": "stream",
     "text": [
      "\n",
      "Enter the name of a city you have visited:\n",
      "(Enter 'quit' when you ar finished.) honolulu\n",
      "I'd love to go to Honolulu!\n",
      "\n",
      "Enter the name of a city you have visited:\n",
      "(Enter 'quit' when you ar finished.) quit\n"
     ]
    }
   ],
   "source": [
    "prompt = \"\\nEnter the name of a city you have visited:\"\n",
    "prompt += \"\\n(Enter 'quit' when you ar finished.) \"\n",
    "\n",
    "while True:\n",
    "    city = input(prompt)\n",
    "    \n",
    "    if city == 'quit':\n",
    "        break\n",
    "    else:\n",
    "        print(f\"I'd love to go to {city.title()}!\")"
   ]
  },
  {
   "cell_type": "markdown",
   "metadata": {},
   "source": [
    "### Using *continue* statement in a Loop (p.122)\n",
    "* return to the beginning of the loop based on the result of a conditional test\n",
    "    * instead of breaking out of a loop entirely without executing the rest of the code\n",
    "* the *continue* statement tells Python to ignore the rest of the loop and return to the beginning"
   ]
  },
  {
   "cell_type": "code",
   "execution_count": 10,
   "metadata": {},
   "outputs": [
    {
     "name": "stdout",
     "output_type": "stream",
     "text": [
      "1\n",
      "3\n",
      "5\n",
      "7\n",
      "9\n"
     ]
    }
   ],
   "source": [
    "current_number = 0\n",
    "while current_number < 10:\n",
    "    current_number += 1\n",
    "    if current_number % 2 == 0:\n",
    "        continue\n",
    "    \n",
    "    print(current_number)"
   ]
  },
  {
   "cell_type": "markdown",
   "metadata": {},
   "source": [
    "---\n",
    "## Using a *while* loop with Lists and Dictionaries\n",
    "* to modify a list as you work through it, use a *while* loop\n",
    "    * allows you to collect, store, and organize lots of input to examine and report on later\n",
    "        * keep track of many users and pieces of information\n",
    "    * a *for* loop is effective for looping through a list, but not recommended to modify a list inside a for loop\n",
    "        * Python will have trouble keeping track of items in list if modified in a *for* loop"
   ]
  },
  {
   "cell_type": "markdown",
   "metadata": {},
   "source": [
    "### Moving Items from one list to another (p.124)\n",
    "* the program checks before displying the message and only prints the message if it does not match the quit value"
   ]
  },
  {
   "cell_type": "code",
   "execution_count": 5,
   "metadata": {},
   "outputs": [
    {
     "name": "stdout",
     "output_type": "stream",
     "text": [
      "Verifying user: Candace\n",
      "Verifying user: Brian\n",
      "Verifying user: Alice\n",
      "\n",
      "The following users have been confirmed:\n",
      "Candace\n",
      "Brian\n",
      "Alice\n"
     ]
    }
   ],
   "source": [
    "# verify each user until there are not more unconfirmed users\n",
    "# move each verified user into the list of confirmed users\n",
    "\n",
    "unconfirmed_users = ['alice', 'brian', 'candace']\n",
    "confirmed_users = []\n",
    "\n",
    "while unconfirmed_users:\n",
    "    current_user = unconfirmed_users.pop()\n",
    "    print(f\"Verifying user: {current_user.title()}\")\n",
    "    confirmed_users.append(current_user)\n",
    "    \n",
    "print(f\"\\nThe following users have been confirmed:\")\n",
    "for user in confirmed_users:\n",
    "    print(user.title())"
   ]
  },
  {
   "cell_type": "markdown",
   "metadata": {},
   "source": [
    "### Removing all instances of specific values from a list (p.125)\n",
    "* use remove() function in a while loop to remove all instances of a value from a list"
   ]
  },
  {
   "cell_type": "code",
   "execution_count": 6,
   "metadata": {},
   "outputs": [
    {
     "name": "stdout",
     "output_type": "stream",
     "text": [
      "['dog', 'cat', 'dog', 'goldfish', 'cat', 'rabbit', 'cat']\n",
      "['dog', 'dog', 'goldfish', 'rabbit']\n"
     ]
    }
   ],
   "source": [
    "pets = ['dog', 'cat', 'dog', 'goldfish', 'cat', 'rabbit', 'cat']\n",
    "print(pets)\n",
    "\n",
    "while 'cat' in pets:\n",
    "    pets.remove('cat')\n",
    "print(pets)"
   ]
  },
  {
   "cell_type": "markdown",
   "metadata": {},
   "source": [
    "### Filling a dictionary with user input (p.126)\n",
    "* prompt as much input as you need in each pass through a *while* loop"
   ]
  },
  {
   "cell_type": "code",
   "execution_count": 7,
   "metadata": {},
   "outputs": [
    {
     "name": "stdout",
     "output_type": "stream",
     "text": [
      "\n",
      "What's your name? michelle\n",
      "Which mountain would you like to climb someday? kilamanjaro\n",
      "Would you like to let another person respond? (yes/no) yes\n",
      "\n",
      "What's your name? mike\n",
      "Which mountain would you like to climb someday? fuji\n",
      "Would you like to let another person respond? (yes/no) no\n",
      "\n",
      "--- Poll Results ---\n",
      "michelle would like to climb kilamanjaro.\n",
      "mike would like to climb fuji.\n"
     ]
    }
   ],
   "source": [
    "responses = {}\n",
    "polling_active = True\n",
    "\n",
    "while polling_active:\n",
    "    name = input(\"\\nWhat's your name? \")\n",
    "    response = input(\"Which mountain would you like to climb someday? \")\n",
    "    \n",
    "    responses[name] = response\n",
    "    \n",
    "    repeat = input(\"Would you like to let another person respond? (yes/no) \")\n",
    "    if repeat == 'no':\n",
    "        polling_active = False\n",
    "\n",
    "print(\"\\n--- Poll Results ---\")\n",
    "for name, response in responses.items():\n",
    "    print(f\"{name} would like to climb {response}.\")"
   ]
  },
  {
   "cell_type": "code",
   "execution_count": null,
   "metadata": {},
   "outputs": [],
   "source": []
  },
  {
   "cell_type": "markdown",
   "metadata": {},
   "source": [
    "---\n",
    "# Practice Problems\n",
    "p.117"
   ]
  },
  {
   "cell_type": "markdown",
   "metadata": {},
   "source": [
    "**7-1. Rental Car**"
   ]
  },
  {
   "cell_type": "code",
   "execution_count": 8,
   "metadata": {},
   "outputs": [
    {
     "name": "stdout",
     "output_type": "stream",
     "text": [
      "What kind of rental car would you like? subaru\n",
      "Let me see if I can find you a Subaru.\n"
     ]
    }
   ],
   "source": [
    "car = input(\"What kind of rental car would you like? \")\n",
    "print(f\"Let me see if I can find you a {car.title()}.\")"
   ]
  },
  {
   "cell_type": "markdown",
   "metadata": {},
   "source": [
    "**7-2. Restaurant Seating**"
   ]
  },
  {
   "cell_type": "code",
   "execution_count": 10,
   "metadata": {},
   "outputs": [
    {
     "name": "stdout",
     "output_type": "stream",
     "text": [
      "How many people are in your dinner group? 3\n",
      "Your table is ready.\n"
     ]
    }
   ],
   "source": [
    "seats = int(input(\"How many people are in your dinner group? \"))\n",
    "\n",
    "if seats > 8:\n",
    "    print(\"You'll have to wait for a table.\")\n",
    "else:\n",
    "    print(\"Your table is ready.\")"
   ]
  },
  {
   "cell_type": "markdown",
   "metadata": {},
   "source": [
    "**7-3. Multiples of Ten**"
   ]
  },
  {
   "cell_type": "code",
   "execution_count": 14,
   "metadata": {},
   "outputs": [
    {
     "name": "stdout",
     "output_type": "stream",
     "text": [
      "Tell me number and I'll tell you if it's a multiple of 10. 20\n",
      "Yes, 20 is a multiple of 10.\n"
     ]
    }
   ],
   "source": [
    "number = int(input(\"Tell me number and I'll tell you if it's a multiple of 10. \"))\n",
    "\n",
    "if number % 10 == 0:\n",
    "    print(f\"Yes, {number} is a multiple of 10.\")\n",
    "else:\n",
    "    print(f\"No, {number} is not a multiple of 10.\")"
   ]
  },
  {
   "cell_type": "markdown",
   "metadata": {},
   "source": [
    "p.123\n",
    "<br><br></br>\n",
    "**7-4. Pizza Toppings**"
   ]
  },
  {
   "cell_type": "code",
   "execution_count": 1,
   "metadata": {},
   "outputs": [
    {
     "name": "stdout",
     "output_type": "stream",
     "text": [
      "Enter a pizza topping: \n",
      "('quit' to exit)\tmushroom\n",
      "Adding mushroom to your pizza.\n",
      "Enter a pizza topping: \n",
      "('quit' to exit)\tcheese\n",
      "Adding cheese to your pizza.\n",
      "Enter a pizza topping: \n",
      "('quit' to exit)\tquit\n"
     ]
    }
   ],
   "source": [
    "prompt = \"Enter a pizza topping: \"\n",
    "prompt += \"\\n('quit' to exit)\\t\"\n",
    "\n",
    "active = True\n",
    "while active:\n",
    "    topping = input(prompt)\n",
    "    if topping != 'quit':\n",
    "        print(f\"Adding {topping} to your pizza.\")\n",
    "    else:\n",
    "        active = False"
   ]
  },
  {
   "cell_type": "markdown",
   "metadata": {},
   "source": [
    "**7-5. Movie Tickets**"
   ]
  },
  {
   "cell_type": "code",
   "execution_count": 4,
   "metadata": {},
   "outputs": [
    {
     "name": "stdout",
     "output_type": "stream",
     "text": [
      "Enter your age: \n",
      "('quit' to exit)\t33\n",
      "Your ticket cost $15.\n",
      "Enter your age: \n",
      "('quit' to exit)\t5\n",
      "Your ticket cost $10.\n",
      "Enter your age: \n",
      "('quit' to exit)\t2\n",
      "Your ticket is free.\n",
      "Enter your age: \n",
      "('quit' to exit)\tquit\n"
     ]
    }
   ],
   "source": [
    "prompt = \"Enter your age: \"\n",
    "prompt += \"\\n('quit' to exit)\\t\"\n",
    "\n",
    "while True:\n",
    "    age = input(prompt)\n",
    "    if age != 'quit':\n",
    "        age = int(age)\n",
    "        if age < 3:\n",
    "            print(f\"Your ticket is free.\")\n",
    "        elif 3 <= age <= 12:\n",
    "            print(f\"Your ticket cost $10.\")\n",
    "        elif age > 12:\n",
    "            print(f\"Your ticket cost $15.\")\n",
    "    else:\n",
    "        break"
   ]
  },
  {
   "cell_type": "markdown",
   "metadata": {},
   "source": [
    "p.127\n",
    "<br><br></br>\n",
    "**7-8. Deli**"
   ]
  },
  {
   "cell_type": "code",
   "execution_count": 10,
   "metadata": {},
   "outputs": [
    {
     "name": "stdout",
     "output_type": "stream",
     "text": [
      "I made your tuna sandwich.\n",
      "I made your egg salad sandwich.\n",
      "I made your italian sandwich.\n",
      "['tuna', 'egg salad', 'italian']\n",
      "[]\n"
     ]
    }
   ],
   "source": [
    "sandwich_orders = ['italian', 'egg salad', 'tuna']\n",
    "finished_sandwiches = []\n",
    "\n",
    "while sandwich_orders:\n",
    "    type = sandwich_orders.pop()\n",
    "    print(f\"I made your {type} sandwich.\")\n",
    "    finished_sandwiches.append(type)\n",
    "    \n",
    "print(finished_sandwiches)\n",
    "print(sandwich_orders)"
   ]
  },
  {
   "cell_type": "markdown",
   "metadata": {},
   "source": [
    "**7-9. No Pastrami**"
   ]
  },
  {
   "cell_type": "code",
   "execution_count": 12,
   "metadata": {},
   "outputs": [
    {
     "name": "stdout",
     "output_type": "stream",
     "text": [
      "I made your veggie sandwich.\n",
      "I made your tuna sandwich.\n",
      "I made your egg salad sandwich.\n",
      "I made your italian sandwich.\n",
      "['veggie', 'tuna', 'egg salad', 'italian']\n",
      "[]\n"
     ]
    }
   ],
   "source": [
    "sandwich_orders = ['pastrami', 'italian','pastrami', 'egg salad','pastrami', 'tuna', 'veggie']\n",
    "finished_sandwiches = []\n",
    "\n",
    "while sandwich_orders:\n",
    "    type = sandwich_orders.pop()\n",
    "    if type == 'pastrami':\n",
    "        del type\n",
    "    else:\n",
    "        print(f\"I made your {type} sandwich.\")\n",
    "        finished_sandwiches.append(type)\n",
    "    \n",
    "print(finished_sandwiches)\n",
    "print(sandwich_orders)"
   ]
  },
  {
   "cell_type": "code",
   "execution_count": 17,
   "metadata": {},
   "outputs": [
    {
     "name": "stdout",
     "output_type": "stream",
     "text": [
      "What is your name? michelle\n",
      "If you could visit one place in the world, where would you go? hawaii\n",
      "Would you like someone else to answer? (yes/no) yes\n",
      "What is your name? mik\n",
      "If you could visit one place in the world, where would you go? greece\n",
      "Would you like someone else to answer? (yes/no) awef\n",
      "Enter 'yes' or 'no'.\n",
      "Would you like someone else to answer? (yes/no) awe\n",
      "Enter 'yes' or 'no'.\n",
      "Would you like someone else to answer? (yes/no) yes\n",
      "What is your name? julie\n",
      "If you could visit one place in the world, where would you go? pi\n",
      "Would you like someone else to answer? (yes/no) no\n",
      "--- Poll Results ---\n",
      "Michelle would like to Hawaii.\n",
      "Mik would like to Greece.\n",
      "Julie would like to Pi.\n"
     ]
    }
   ],
   "source": [
    "dream_vacation = {}\n",
    "\n",
    "active = True\n",
    "while active:\n",
    "    name = input(\"What is your name? \")\n",
    "    location = input(\"If you could visit one place in the world, where would you go? \")\n",
    "    dream_vacation[name] = location\n",
    "\n",
    "    while True:\n",
    "        message = input(\"Would you like someone else to answer? (yes/no) \")\n",
    "        if message == 'yes':\n",
    "            break\n",
    "        elif message == 'no':\n",
    "            active = False\n",
    "            break\n",
    "        else:\n",
    "            print(\"Enter 'yes' or 'no'.\")\n",
    "        \n",
    "print(\"--- Poll Results ---\")\n",
    "for name, location in dream_vacation.items():\n",
    "    print(f\"{name.title()} would like to {location.title()}.\")"
   ]
  },
  {
   "cell_type": "code",
   "execution_count": null,
   "metadata": {},
   "outputs": [],
   "source": []
  }
 ],
 "metadata": {
  "kernelspec": {
   "display_name": "Python 3",
   "language": "python",
   "name": "python3"
  },
  "language_info": {
   "codemirror_mode": {
    "name": "ipython",
    "version": 3
   },
   "file_extension": ".py",
   "mimetype": "text/x-python",
   "name": "python",
   "nbconvert_exporter": "python",
   "pygments_lexer": "ipython3",
   "version": "3.7.6"
  }
 },
 "nbformat": 4,
 "nbformat_minor": 4
}
