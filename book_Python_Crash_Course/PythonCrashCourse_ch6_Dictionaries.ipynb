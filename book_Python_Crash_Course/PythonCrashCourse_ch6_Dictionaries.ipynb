{
 "cells": [
  {
   "cell_type": "markdown",
   "metadata": {},
   "source": [
    "# Chapter 6 - Dictionaries\n",
    "* dictionary - collection of key-value pairs (set of values associated with each other)\n",
    "    * each *key* is connected to a value, use a key to access associated value\n",
    "    * use any object in Python (ex. string, list, another dictionary, etc) as a value\n",
    "    * it's good practice to include a comma after the last key-pair value to be ready to add new key-value pair on next line\n",
    "\n",
    "### Accessing Values in a Dictionary (p.93)\n",
    "* give the dictionary name then place the key inside a set of square brackets\n",
    "* able to have an unlimited number of key-value pairs in a dictionary"
   ]
  },
  {
   "cell_type": "code",
   "execution_count": 4,
   "metadata": {},
   "outputs": [
    {
     "name": "stdout",
     "output_type": "stream",
     "text": [
      "You just earned 5 points for shooting down the green alien!\n"
     ]
    }
   ],
   "source": [
    "alien = {'color': 'green', 'points': 5}\n",
    "new_points = alien['points']\n",
    "print(f\"You just earned {new_points} points for shooting down the {alien['color']} alien!\")"
   ]
  },
  {
   "cell_type": "markdown",
   "metadata": {},
   "source": [
    "### Adding new key-value pairs (p.94)\n",
    "* dictionaries are dynamic structures, you can add new key-value pairs at any time\n",
    "* as of Python 3.7, dictionaries retain order in which defined - print/loop through elements will output in same order they were added\n",
    "    * add each key-value pair on its own line"
   ]
  },
  {
   "cell_type": "code",
   "execution_count": 5,
   "metadata": {},
   "outputs": [
    {
     "name": "stdout",
     "output_type": "stream",
     "text": [
      "{'color': 'green', 'points': 5}\n"
     ]
    }
   ],
   "source": [
    "alien_0 = {}\n",
    "alien_0['color'] = 'green'\n",
    "alien_0['points'] = 5\n",
    "print(alien_0)"
   ]
  },
  {
   "cell_type": "markdown",
   "metadata": {},
   "source": [
    "### Modifying Values in a Dictionary (p.95)\n",
    "* give the name of dictionary with key in square brackets and then new value"
   ]
  },
  {
   "cell_type": "code",
   "execution_count": 7,
   "metadata": {},
   "outputs": [
    {
     "name": "stdout",
     "output_type": "stream",
     "text": [
      "The alien is yellow.\n",
      "The alien is now green.\n"
     ]
    }
   ],
   "source": [
    "print(f\"The alien is {alien_0['color']}.\")\n",
    "alien_0['color'] = 'yellow'\n",
    "print(f\"The alien is now {alien['color']}.\")"
   ]
  },
  {
   "cell_type": "markdown",
   "metadata": {},
   "source": [
    "### del statement - Removing key-value pairs (p.96)\n",
    "* permanently remove with del statement, name of dictionary and key to remove"
   ]
  },
  {
   "cell_type": "code",
   "execution_count": 9,
   "metadata": {},
   "outputs": [
    {
     "name": "stdout",
     "output_type": "stream",
     "text": [
      "{'color': 'green', 'points': 5}\n",
      "{'color': 'green'}\n"
     ]
    }
   ],
   "source": [
    "print(alien)\n",
    "del alien['points']\n",
    "print(alien)"
   ]
  },
  {
   "cell_type": "markdown",
   "metadata": {},
   "source": [
    "### get() method - to access values (p.98)\n",
    "* set a defalt value that will be returned if the requested key doesn't exist\n",
    "    * requires a key as a first argument\n",
    "    * second optional argument - pass the value to be returned if the key doesn't exist\n",
    "        * if second argument blank and the key doesn't exist, Python will return *None* (special value means \"no value exists\")"
   ]
  },
  {
   "cell_type": "code",
   "execution_count": 12,
   "metadata": {},
   "outputs": [
    {
     "name": "stdout",
     "output_type": "stream",
     "text": [
      "{'color': 'yellow', 'points': 5}\n",
      "No speed value assigned.\n"
     ]
    }
   ],
   "source": [
    "print(alien_0)\n",
    "\n",
    "speed_value = alien_0.get('speed', 'No speed value assigned.')\n",
    "print(speed_value)"
   ]
  },
  {
   "cell_type": "markdown",
   "metadata": {},
   "source": [
    "---\n",
    "# Looping through a Dictionary\n",
    "\n",
    "* loop through key-value pairs through its keys or through its values with a *for* loop\n",
    "\n",
    "### items() method - looping through all key-value pairs (p.100)\n",
    "* for loop assigns each pair to two variables provided"
   ]
  },
  {
   "cell_type": "code",
   "execution_count": 9,
   "metadata": {},
   "outputs": [
    {
     "name": "stdout",
     "output_type": "stream",
     "text": [
      "\n",
      "Key: jen\n",
      "Value: python\n",
      "\n",
      "Key: sarah\n",
      "Value: c\n",
      "\n",
      "Key: edward\n",
      "Value: ruby\n",
      "\n",
      "Key: phil\n",
      "Value: python\n",
      "\n",
      "\n",
      "Jen's favorite language is Python.\n",
      "Sarah's favorite language is C.\n",
      "Edward's favorite language is Ruby.\n",
      "Phil's favorite language is Python.\n"
     ]
    }
   ],
   "source": [
    "favorite_languages = {\n",
    "    'jen': 'python',\n",
    "    'sarah': 'c',\n",
    "    'edward': 'ruby',\n",
    "    'phil': 'python',\n",
    "}\n",
    "\n",
    "for k, v in favorite_languages.items():\n",
    "    print(f\"\\nKey: {k}\")\n",
    "    print(f\"Value: {v}\")\n",
    "print(\"\\n\")\n",
    "\n",
    "for name, language in favorite_languages.items():\n",
    "    print(f\"{name.title()}'s favorite language is {language.title()}.\")"
   ]
  },
  {
   "cell_type": "markdown",
   "metadata": {},
   "source": [
    "### keys() method - when you don't need to work with all values (p.101)\n",
    "* looping through keys is default behavior when looping through a dictionary\n",
    "    * use keys() explicitly to make code easier to read (or omit if you wish)"
   ]
  },
  {
   "cell_type": "code",
   "execution_count": 10,
   "metadata": {},
   "outputs": [
    {
     "name": "stdout",
     "output_type": "stream",
     "text": [
      "Jen\n",
      "Sarah\n",
      "Edward\n",
      "Phil\n",
      "\n",
      "\n",
      "Jen\n",
      "Sarah\n",
      "Edward\n",
      "Phil\n"
     ]
    }
   ],
   "source": [
    "for name in favorite_languages:\n",
    "    print(name.title())\n",
    "print(\"\\n\")\n",
    "for name in favorite_languages.keys():\n",
    "    print(name.title())"
   ]
  },
  {
   "cell_type": "markdown",
   "metadata": {},
   "source": [
    "### sorted() function - loop through dictionary's keys in a particular order (p.103)\n",
    "* sort the keys as they're returned in the *for* loops to get a copy of the keys in order\n",
    "    * tells Python to list all keys in the dictionary and sort that list before looping through it"
   ]
  },
  {
   "cell_type": "code",
   "execution_count": 11,
   "metadata": {},
   "outputs": [
    {
     "name": "stdout",
     "output_type": "stream",
     "text": [
      "Edward, thanks for taking the poll.\n",
      "Jen, thanks for taking the poll.\n",
      "Phil, thanks for taking the poll.\n",
      "Sarah, thanks for taking the poll.\n"
     ]
    }
   ],
   "source": [
    "for name in sorted(favorite_languages.keys()):\n",
    "    print(f\"{name.title()}, thanks for taking the poll.\")"
   ]
  },
  {
   "cell_type": "markdown",
   "metadata": {},
   "source": [
    "### values() method - return a list of values without any keys (p.104)\n",
    "* this approach pulls all values without checking for repeats"
   ]
  },
  {
   "cell_type": "code",
   "execution_count": 12,
   "metadata": {},
   "outputs": [
    {
     "name": "stdout",
     "output_type": "stream",
     "text": [
      "The following languages have been mentioned:\n",
      "Python\n",
      "C\n",
      "Ruby\n",
      "Python\n"
     ]
    }
   ],
   "source": [
    "print(\"The following languages have been mentioned:\")\n",
    "for language in favorite_languages.values():\n",
    "    print(language.title())"
   ]
  },
  {
   "cell_type": "markdown",
   "metadata": {},
   "source": [
    "### set() function - return a list without repetition (p.104)\n",
    "* set - a collection in which each item must be unique\n",
    "* wrap set() around a list that contains duplicate items, Python identifies unique items in list and builds a set from those items (nonrepetitive list)\n",
    "* build a set directly using braces and separating elements with commas\n",
    "    * easy to mistake sets for dictionaries\n",
    "    * sets to not retain items in any specific order (unlike in lists/dictionaries)"
   ]
  },
  {
   "cell_type": "code",
   "execution_count": 40,
   "metadata": {},
   "outputs": [
    {
     "name": "stdout",
     "output_type": "stream",
     "text": [
      "The following languages have been mentioned:\n",
      "Ruby\n",
      "C\n",
      "Python\n"
     ]
    }
   ],
   "source": [
    "print(\"The following languages have been mentioned:\")\n",
    "for language in set(favorite_languages.values()):\n",
    "    print(language.title())"
   ]
  },
  {
   "cell_type": "markdown",
   "metadata": {},
   "source": [
    "---\n",
    "# Nesting\n",
    "\n",
    "* store multiple dictionaries in a list, list of items as a value in a dictionary, nest dictionary inside another dictionary, etc\n",
    "\n",
    "### a list of dictionaries (p.106)\n",
    "* common to store a number of dictionaries in a list when each dictionary contains may kinds of information about one object\n",
    "* dictionaries in the list should have identical structure so you can loop through the list and work with each dictionary object in the same way\n",
    "    * ex) create a dictionary for each user on a website"
   ]
  },
  {
   "cell_type": "code",
   "execution_count": 1,
   "metadata": {},
   "outputs": [
    {
     "name": "stdout",
     "output_type": "stream",
     "text": [
      "{'color': 'yellow', 'points': '10', 'speed': 'medium'}\n",
      "{'color': 'yellow', 'points': '10', 'speed': 'medium'}\n",
      "{'color': 'yellow', 'points': '10', 'speed': 'medium'}\n",
      "{'color': 'green', 'points': 5, 'speed': 'slow'}\n",
      "{'color': 'green', 'points': 5, 'speed': 'slow'}\n"
     ]
    }
   ],
   "source": [
    "aliens = []\n",
    "\n",
    "# Make 30 green aliens\n",
    "for alien_number in range(30):\n",
    "    new_alien = {'color': 'green', 'points': 5, 'speed': 'slow'}\n",
    "    aliens.append(new_alien)\n",
    "\n",
    "# Update value of first 3 green aliens\n",
    "for alien in aliens[:3]:\n",
    "    if alien['color'] == 'green':\n",
    "        alien['color'] = 'yellow'\n",
    "        alien['speed'] = 'medium'\n",
    "        alien['points'] = '10'\n",
    "\n",
    "# Show the first 5 aliens\n",
    "for alien in aliens[:5]:\n",
    "    print(alien)"
   ]
  },
  {
   "cell_type": "markdown",
   "metadata": {},
   "source": [
    "### a list in a dictionary (p.108)\n",
    "* nest a list inside a dictionary when you want more than one value associated with a single key in a dictionary\n",
    "    * do not nest lists and dictionaries too deeply"
   ]
  },
  {
   "cell_type": "code",
   "execution_count": 15,
   "metadata": {},
   "outputs": [
    {
     "name": "stdout",
     "output_type": "stream",
     "text": [
      "\n",
      "Jen's favorite languages are:\n",
      "\tPython\n",
      "\tRuby\n",
      "\n",
      "Sarah's favorite language is Ruby.\n",
      "\n",
      "Edward's favorite languages are:\n",
      "\tRuby\n",
      "\tGo\n",
      "\n",
      "Phil's favorite languages are:\n",
      "\tPython\n",
      "\tHaskell\n"
     ]
    }
   ],
   "source": [
    "favorite_languages = {\n",
    "    'jen': ['python', 'ruby'],\n",
    "    'sarah': ['c'],\n",
    "    'edward': ['ruby', 'go'],\n",
    "    'phil': ['python', 'haskell'],\n",
    "}\n",
    "\n",
    "for name, languages in favorite_languages.items():\n",
    "    if len(languages) == 1:\n",
    "        print(f\"\\n{name.title()}'s favorite language is {language.title()}.\")\n",
    "    else:\n",
    "        print(f\"\\n{name.title()}'s favorite languages are:\")\n",
    "        for language in languages:\n",
    "            print(f\"\\t{language.title()}\")"
   ]
  },
  {
   "cell_type": "markdown",
   "metadata": {},
   "source": [
    "### a dictionary in a dictionary (p.110)\n",
    "* code can get complicated quickly\n",
    "* structure of each dictionary is recommended to be identical to make easier to work with (although not required by Python)"
   ]
  },
  {
   "cell_type": "code",
   "execution_count": 2,
   "metadata": {},
   "outputs": [
    {
     "name": "stdout",
     "output_type": "stream",
     "text": [
      "\n",
      "Username: aeinstein\n",
      "\tFull name: Albert Einstein\n",
      "\tLocation: Princeton\n",
      "\n",
      "Username: mcurie\n",
      "\tFull name: Marie Curie\n",
      "\tLocation: Paris\n"
     ]
    }
   ],
   "source": [
    "users = {\n",
    "    'aeinstein': {\n",
    "        'first': 'albert',\n",
    "        'last': 'einstein',\n",
    "        'location': 'princeton'\n",
    "    },\n",
    "    \n",
    "    'mcurie': {\n",
    "        'first': 'marie',\n",
    "        'last': 'curie',\n",
    "        'location': 'paris',\n",
    "    }\n",
    "}\n",
    "\n",
    "for username, user_info in users.items():\n",
    "    print(f\"\\nUsername: {username}\")\n",
    "    full_name = f\"{user_info['first']} {user_info['last']}\"\n",
    "    location = user_info['location']\n",
    "    \n",
    "    print(f\"\\tFull name: {full_name.title()}\")\n",
    "    print(f\"\\tLocation: {location.title()}\")"
   ]
  },
  {
   "cell_type": "markdown",
   "metadata": {},
   "source": [
    "---\n",
    "# Practice Problems\n",
    "p.98"
   ]
  },
  {
   "cell_type": "markdown",
   "metadata": {},
   "source": [
    "**6-1. Person**"
   ]
  },
  {
   "cell_type": "code",
   "execution_count": 24,
   "metadata": {},
   "outputs": [
    {
     "name": "stdout",
     "output_type": "stream",
     "text": [
      "Michelle\n",
      "Domingo\n",
      "39\n",
      "San Francisco\n"
     ]
    }
   ],
   "source": [
    "person = {\n",
    "    'first_name': 'michelle',\n",
    "    'last_name': 'domingo',\n",
    "    'age': '39',\n",
    "    'city': 'san francisco'\n",
    "    }\n",
    "\n",
    "print(person['first_name'].title())\n",
    "print(person['last_name'].title())\n",
    "print(person['age'].title())\n",
    "print(person['city'].title())"
   ]
  },
  {
   "cell_type": "markdown",
   "metadata": {},
   "source": [
    "**6-2. Favorite Numbers**"
   ]
  },
  {
   "cell_type": "code",
   "execution_count": 27,
   "metadata": {},
   "outputs": [
    {
     "name": "stdout",
     "output_type": "stream",
     "text": [
      "Michelle: 1\n",
      "Radu: 2\n",
      "William: 3\n",
      "Jason: 4\n",
      "Vinay: 5\n"
     ]
    }
   ],
   "source": [
    "friends = {\n",
    "    'michelle': 1,\n",
    "    'radu': 2,\n",
    "    'william': 3,\n",
    "    'jason': 4,\n",
    "    'vinay': 5,\n",
    "    }\n",
    "\n",
    "print(f\"Michelle: {friends['michelle']}\")\n",
    "print(f\"Radu: {friends['radu']}\")\n",
    "print(f\"William: {friends['william']}\")\n",
    "print(f\"Jason: {friends['jason']}\")\n",
    "print(f\"Vinay: {friends['vinay']}\")"
   ]
  },
  {
   "cell_type": "markdown",
   "metadata": {},
   "source": [
    "**6-3. Glossary**"
   ]
  },
  {
   "cell_type": "code",
   "execution_count": 29,
   "metadata": {},
   "outputs": [
    {
     "name": "stdout",
     "output_type": "stream",
     "text": [
      "Dictionary:\n",
      "\tcollection of key-value pairs (set of values associated with each other\n",
      "\n",
      "Boolean expression:\n",
      "\ta conditional statement to be evaluated as True or False\n",
      "\n",
      "Lists:\n",
      "\ta list of data objects\n",
      "\n"
     ]
    }
   ],
   "source": [
    "glossary = {\n",
    "    'dictionary': 'collection of key-value pairs (set of values associated with each other',\n",
    "    'boolean expression': 'a conditional statement to be evaluated as True or False',\n",
    "    'lists': 'a list of data objects',\n",
    "}\n",
    "\n",
    "print(f\"Dictionary:\\n\\t{glossary['dictionary']}\\n\")\n",
    "print(f\"Boolean expression:\\n\\t{glossary['boolean expression']}\\n\")\n",
    "print(f\"Lists:\\n\\t{glossary['lists']}\\n\")"
   ]
  },
  {
   "cell_type": "markdown",
   "metadata": {},
   "source": [
    "p.105\n",
    "<br><br></br>\n",
    "**6-4. Glossary 2**"
   ]
  },
  {
   "cell_type": "code",
   "execution_count": 41,
   "metadata": {},
   "outputs": [
    {
     "name": "stdout",
     "output_type": "stream",
     "text": [
      "Dictionary:\n",
      "\tcollection of key-value pairs (set of values associated with each other\n",
      "\n",
      "Boolean Expression:\n",
      "\ta conditional statement to be evaluated as True or False\n",
      "\n",
      "Lists:\n",
      "\ta list of data objects\n",
      "\n"
     ]
    }
   ],
   "source": [
    "for term, definition in glossary.items():\n",
    "    print(f\"{term.title()}:\\n\\t{definition}\\n\")"
   ]
  },
  {
   "cell_type": "markdown",
   "metadata": {},
   "source": [
    "**6-5. Rivers**"
   ]
  },
  {
   "cell_type": "code",
   "execution_count": 55,
   "metadata": {},
   "outputs": [
    {
     "name": "stdout",
     "output_type": "stream",
     "text": [
      "The Nile river runs through Egypt.\n",
      "The Mississippi river runs through United States.\n",
      "The Danube river runs through Germany.\n",
      "Nile river\n",
      "Mississippi river\n",
      "Danube river\n",
      "Egypt\n",
      "United States\n",
      "Germany\n"
     ]
    }
   ],
   "source": [
    "rivers = {\n",
    "    'nile': 'egypt',\n",
    "    'mississippi': 'united states',\n",
    "    'danube': 'germany',\n",
    "}\n",
    "for river, country in rivers.items():\n",
    "    print(f\"The {river.title()} river runs through {country.title()}.\")\n",
    "\n",
    "for river in rivers.keys():\n",
    "    print(f\"{river.title()} river\")\n",
    "\n",
    "for country in rivers.values():\n",
    "    print(country.title())"
   ]
  },
  {
   "cell_type": "markdown",
   "metadata": {},
   "source": [
    "**6-6. Polling**"
   ]
  },
  {
   "cell_type": "code",
   "execution_count": 57,
   "metadata": {},
   "outputs": [
    {
     "name": "stdout",
     "output_type": "stream",
     "text": [
      "{'jen': 'python', 'sarah': 'c', 'edward': 'ruby', 'phil': 'python'}\n",
      "Thanks for taking the poll, Jen!\n",
      "Thanks for taking the poll, Phil!\n",
      "Michelle - You're invited to take a poll!\n",
      "Connie - You're invited to take a poll!\n",
      "Dan - You're invited to take a poll!\n"
     ]
    }
   ],
   "source": [
    "print(favorite_languages)\n",
    "devs = ['JEN', 'PHIL', 'michelle', 'connie', 'dan']\n",
    "\n",
    "for dev in devs:\n",
    "    if dev.lower() in favorite_languages.keys():\n",
    "        print(f\"Thanks for taking the poll, {dev.title()}!\")\n",
    "    else:\n",
    "        print(f\"{dev.title()} - You're invited to take a poll!\")"
   ]
  },
  {
   "cell_type": "markdown",
   "metadata": {},
   "source": [
    "p.112\n",
    "<br><br></br>\n",
    "**6-7. People**"
   ]
  },
  {
   "cell_type": "code",
   "execution_count": 8,
   "metadata": {},
   "outputs": [
    {
     "name": "stdout",
     "output_type": "stream",
     "text": [
      "\n",
      "Michelle Domingo's info:\n",
      "\tAge: 39\n",
      "\tLocation: San Francisco\n",
      "\n",
      "Rhadika Ghana's info:\n",
      "\tAge: 39\n",
      "\tLocation: San Francisco\n",
      "\n",
      "Mike Dail's info:\n",
      "\tAge: 45\n",
      "\tLocation: Oakland\n"
     ]
    }
   ],
   "source": [
    "miched = {\n",
    "    'first_name': 'michelle',\n",
    "    'last_name': 'domingo',\n",
    "    'age': '39',\n",
    "    'city': 'san francisco'\n",
    "    }\n",
    "\n",
    "rg = {\n",
    "    'first_name': 'rhadika',\n",
    "    'last_name': 'ghana',\n",
    "    'age': '39',\n",
    "    'city': 'san francisco'    \n",
    "}\n",
    "\n",
    "md = {\n",
    "    'first_name': 'mike',\n",
    "    'last_name': 'dail',\n",
    "    'age': '45',\n",
    "    'city': 'oakland'    \n",
    "}\n",
    "\n",
    "people = [miched, rg, md]\n",
    "for peeps in people:\n",
    "    full_name = f\"{peeps['first_name']} {peeps['last_name']}\"\n",
    "    print(f\"\\n{full_name.title()}'s info:\")\n",
    "    print(f\"\\tAge: {peeps['age']}\")\n",
    "    print(f\"\\tLocation: {peeps['city'].title()}\")"
   ]
  },
  {
   "cell_type": "markdown",
   "metadata": {},
   "source": [
    "**6-8. Pets**"
   ]
  },
  {
   "cell_type": "code",
   "execution_count": 10,
   "metadata": {},
   "outputs": [
    {
     "name": "stdout",
     "output_type": "stream",
     "text": [
      "Autumn's pet dog's name is Amelia.\n",
      "William's pet dog's name is Kehlani.\n"
     ]
    }
   ],
   "source": [
    "p1 = {'type': 'dog', 'name': 'amelia', 'owner': 'autumn'}\n",
    "p2 = {'type': 'dog', 'name': 'kehlani', 'owner': 'william'}\n",
    "pets = [p1, p2]\n",
    "for pet in pets:\n",
    "    print(f\"{pet['owner'].title()}'s pet {pet['type']}'s name is {pet['name'].title()}.\")"
   ]
  },
  {
   "cell_type": "markdown",
   "metadata": {},
   "source": [
    "**6-9. Favorite Places**"
   ]
  },
  {
   "cell_type": "code",
   "execution_count": 13,
   "metadata": {},
   "outputs": [
    {
     "name": "stdout",
     "output_type": "stream",
     "text": [
      "\n",
      "Radu's favorite places are:\n",
      "\tIndia\n",
      "\tColumbia\n",
      "\tFlorida\n",
      "\n",
      "William's favorite places are:\n",
      "\tEurope\n",
      "\tChicago\n",
      "\tHawaii\n",
      "\n",
      "Michelle's favorite places are:\n",
      "\tHawaii\n",
      "\tPhilippines\n",
      "\tThailand\n"
     ]
    }
   ],
   "source": [
    "favorite_places = {\n",
    "    'radu': ['india', 'columbia', 'florida'],\n",
    "    'william': ['europe', 'chicago', 'hawaii'],\n",
    "    'michelle': ['hawaii', 'philippines', 'thailand']\n",
    "}\n",
    "\n",
    "for person, places in favorite_places.items():\n",
    "    print(f\"\\n{person.title()}'s favorite places are:\")\n",
    "    for place in places:\n",
    "        print(f\"\\t{place.title()}\")"
   ]
  },
  {
   "cell_type": "markdown",
   "metadata": {},
   "source": [
    "**6-10. Favorite Numbers**"
   ]
  },
  {
   "cell_type": "code",
   "execution_count": 16,
   "metadata": {},
   "outputs": [
    {
     "name": "stdout",
     "output_type": "stream",
     "text": [
      "\n",
      "Michelle's favorite numbers are:\n",
      "\t1\n",
      "\t2\n",
      "\t3\n",
      "\n",
      "Radu's favorite numbers are:\n",
      "\t2\n",
      "\t3\n",
      "\t4\n",
      "\n",
      "William's favorite numbers are:\n",
      "\t3\n",
      "\t4\n",
      "\t5\n",
      "\n",
      "Jason's favorite numbers are:\n",
      "\t4\n",
      "\t5\n",
      "\t6\n",
      "\n",
      "Vinay's favorite numbers are:\n",
      "\t5\n",
      "\t6\n",
      "\t7\n"
     ]
    }
   ],
   "source": [
    "friends = {\n",
    "    'michelle': [1, 2, 3],\n",
    "    'radu': [2, 3, 4],\n",
    "    'william': [3, 4, 5],\n",
    "    'jason': [4, 5, 6],\n",
    "    'vinay': [5, 6, 7],\n",
    "    }\n",
    "\n",
    "for friend, numbers in friends.items():\n",
    "    print(f\"\\n{friend.title()}'s favorite numbers are:\")\n",
    "    for number in numbers:\n",
    "        print(f\"\\t{number}\")"
   ]
  },
  {
   "cell_type": "markdown",
   "metadata": {},
   "source": [
    "**6-11. Cities**"
   ]
  },
  {
   "cell_type": "code",
   "execution_count": 19,
   "metadata": {},
   "outputs": [
    {
     "name": "stdout",
     "output_type": "stream",
     "text": [
      "\n",
      "Facts about Honolulu:\n",
      "\tCountry: usa\n",
      "\tPopulation: 337,256\n",
      "\tFact: Ranked as the 2nd safest city in the U.S.\n",
      "\n",
      "Facts about San Francisco:\n",
      "\tCountry: usa\n",
      "\tPopulation: 805,235\n",
      "\tFact: Politically, the city votes strongly along liberal Democratic Party lines.\n",
      "\n",
      "Facts about Manila:\n",
      "\tCountry: usa\n",
      "\tPopulation: 1,780,148\n",
      "\tFact: The capital of the Philippines\n"
     ]
    }
   ],
   "source": [
    "cities = {\n",
    "    'honolulu': {'country': 'usa', 'population': '337,256', 'fact': 'Ranked as the 2nd safest city in the U.S.'},\n",
    "    'san francisco': {'country': 'usa', 'population': '805,235', 'fact': 'Politically, the city votes strongly along liberal Democratic Party lines.'},\n",
    "    'manila': {'country': 'usa', 'population': '1,780,148', 'fact': 'The capital of the Philippines'},\n",
    "}\n",
    "\n",
    "for city, information in cities.items():\n",
    "    print(f\"\\nFacts about {city.title()}:\")\n",
    "    for key, info in information.items():\n",
    "        print(f\"\\t{key.title()}: {info}\")\n",
    "          "
   ]
  },
  {
   "cell_type": "code",
   "execution_count": null,
   "metadata": {},
   "outputs": [],
   "source": []
  },
  {
   "cell_type": "code",
   "execution_count": null,
   "metadata": {},
   "outputs": [],
   "source": []
  }
 ],
 "metadata": {
  "kernelspec": {
   "display_name": "Python 3",
   "language": "python",
   "name": "python3"
  },
  "language_info": {
   "codemirror_mode": {
    "name": "ipython",
    "version": 3
   },
   "file_extension": ".py",
   "mimetype": "text/x-python",
   "name": "python",
   "nbconvert_exporter": "python",
   "pygments_lexer": "ipython3",
   "version": "3.7.6"
  }
 },
 "nbformat": 4,
 "nbformat_minor": 4
}
