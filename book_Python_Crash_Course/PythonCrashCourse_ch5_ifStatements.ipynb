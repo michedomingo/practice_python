{
 "cells": [
  {
   "cell_type": "markdown",
   "metadata": {},
   "source": [
    "# Chapter 5 - if statements\n",
    "* conditional test - at the heart of every if statement is an expression that can be evauated as True or False\n",
    "    * if conditional test evaluates to True, Python executes code following the if statement\n",
    "    * if evaluates to False, Python ignores code following the if statement\n",
    "* Boolean expression is another name for a conditional test\n",
    "    * Boolean value is either True or False (just like the value of a conditional expression after evaluated)\n",
    "* if you only want one block of code to run, use an if-elif-else chain\n",
    "* if you want more than one block of code to run, use a series of independent if statements\n",
    "    \n",
    "    \n",
    "### Ignoring Case when checking for Equality (p.73)\n",
    "* testing for equality is case sensitive\n",
    "    * use case ex) website uses conditional tests to ensure truly unique usernames; new username is converted to lowercase and comapred to lowercase versions of all existing usernames"
   ]
  },
  {
   "cell_type": "code",
   "execution_count": 2,
   "metadata": {},
   "outputs": [
    {
     "data": {
      "text/plain": [
       "False"
      ]
     },
     "execution_count": 2,
     "metadata": {},
     "output_type": "execute_result"
    }
   ],
   "source": [
    "car = 'Audi'\n",
    "car == 'audi'"
   ]
  },
  {
   "cell_type": "markdown",
   "metadata": {},
   "source": [
    "<br></br>\n",
    "* lower() function doesn't change value orginally stored in car"
   ]
  },
  {
   "cell_type": "code",
   "execution_count": 3,
   "metadata": {},
   "outputs": [
    {
     "data": {
      "text/plain": [
       "True"
      ]
     },
     "execution_count": 3,
     "metadata": {},
     "output_type": "execute_result"
    }
   ],
   "source": [
    "car = 'Audi'\n",
    "car.lower() == 'audi'"
   ]
  },
  {
   "cell_type": "markdown",
   "metadata": {},
   "source": [
    "### Checking for Inequality (p.74)\n",
    "* combine an exclamation point and an equal sign `!=` to determine whether two values are not equal"
   ]
  },
  {
   "cell_type": "code",
   "execution_count": 4,
   "metadata": {},
   "outputs": [
    {
     "name": "stdout",
     "output_type": "stream",
     "text": [
      "Hold the anchovies!\n"
     ]
    }
   ],
   "source": [
    "requested_topping = 'mushrooms'\n",
    "if requested_topping != 'ancovies':\n",
    "    print(\"Hold the anchovies!\")"
   ]
  },
  {
   "cell_type": "markdown",
   "metadata": {},
   "source": [
    "### Checking Multiple Conditions (p.75)\n",
    "* use keyword `and` to combine conditional tests\n",
    "    * if each test passes, overall expression evaluates to True\n",
    "    * if either test fails or both tests fail, expression evaluates to False\n",
    "* use keyword `or` to combine conditional tests - passes when either or both/all individual tests pass\n",
    "    * an `or` expression fails only when all individual tests fail"
   ]
  },
  {
   "cell_type": "code",
   "execution_count": 7,
   "metadata": {},
   "outputs": [
    {
     "data": {
      "text/plain": [
       "False"
      ]
     },
     "execution_count": 7,
     "metadata": {},
     "output_type": "execute_result"
    }
   ],
   "source": [
    "age_0 = 22\n",
    "age_1 = 18\n",
    "(age_0 >= 21) and (age_1 >= 21)"
   ]
  },
  {
   "cell_type": "code",
   "execution_count": 8,
   "metadata": {},
   "outputs": [
    {
     "data": {
      "text/plain": [
       "True"
      ]
     },
     "execution_count": 8,
     "metadata": {},
     "output_type": "execute_result"
    }
   ],
   "source": [
    "age_1 = 22\n",
    "(age_0 >= 21) and (age_1 >= 21)"
   ]
  },
  {
   "cell_type": "code",
   "execution_count": 9,
   "metadata": {},
   "outputs": [
    {
     "data": {
      "text/plain": [
       "True"
      ]
     },
     "execution_count": 9,
     "metadata": {},
     "output_type": "execute_result"
    }
   ],
   "source": [
    "age_1 = 18\n",
    "(age_0 >= 21) or (age_1 >= 21)"
   ]
  },
  {
   "cell_type": "code",
   "execution_count": 10,
   "metadata": {},
   "outputs": [
    {
     "data": {
      "text/plain": [
       "False"
      ]
     },
     "execution_count": 10,
     "metadata": {},
     "output_type": "execute_result"
    }
   ],
   "source": [
    "age_0 = 18\n",
    "(age_0 >= 21) or (age_1 >= 21)"
   ]
  },
  {
   "cell_type": "markdown",
   "metadata": {},
   "source": [
    "### Checking whether a Value is OR is not in a List (p.76)\n",
    "* use keyword `in` to find out whether particular value is already in a list\n",
    "* use keyword `not` to know if value does not appear in a list"
   ]
  },
  {
   "cell_type": "code",
   "execution_count": 11,
   "metadata": {},
   "outputs": [
    {
     "data": {
      "text/plain": [
       "True"
      ]
     },
     "execution_count": 11,
     "metadata": {},
     "output_type": "execute_result"
    }
   ],
   "source": [
    "requested_toppings = ['mushrooms', 'onions', 'pineapple']\n",
    "'mushrooms' in requested_toppings"
   ]
  },
  {
   "cell_type": "code",
   "execution_count": 12,
   "metadata": {},
   "outputs": [
    {
     "data": {
      "text/plain": [
       "False"
      ]
     },
     "execution_count": 12,
     "metadata": {},
     "output_type": "execute_result"
    }
   ],
   "source": [
    "'pepperoni' in requested_toppings"
   ]
  },
  {
   "cell_type": "code",
   "execution_count": 13,
   "metadata": {},
   "outputs": [
    {
     "name": "stdout",
     "output_type": "stream",
     "text": [
      "Marie, you can post if you wish.\n"
     ]
    }
   ],
   "source": [
    "banned_users = ['andrew', 'carolina', 'david']\n",
    "user = 'marie'\n",
    "if user not in banned_users:\n",
    "    print(f\"{user.title()}, you can post if you wish.\")"
   ]
  },
  {
   "cell_type": "markdown",
   "metadata": {},
   "source": [
    "### Checking that a List is Not Empty (p.87)\n",
    "* When the name of a list is used in an *if* statement, Python returns *True* if it contains at least one item\n",
    "    * an empty list evaluates to *False*\n",
    "* when user provide info to be stored in list, don't assume list has any items each time loop is run\n",
    "    * useful to check whether list is empty, before running a *for* loop"
   ]
  },
  {
   "cell_type": "code",
   "execution_count": 48,
   "metadata": {},
   "outputs": [
    {
     "name": "stdout",
     "output_type": "stream",
     "text": [
      "Are you sure you want a plain pizza?\n"
     ]
    }
   ],
   "source": [
    "requested_toppings = []\n",
    "if requested_toppings:\n",
    "    for topping in requested_toppings:\n",
    "        print(f\"Adding {topping}.\")\n",
    "    print(\"\\nFinished making your pizza!\")\n",
    "else:\n",
    "    print(\"Are you sure you want a plain pizza?\")"
   ]
  },
  {
   "cell_type": "code",
   "execution_count": null,
   "metadata": {},
   "outputs": [],
   "source": []
  },
  {
   "cell_type": "markdown",
   "metadata": {},
   "source": [
    "---\n",
    "# Practice Problems\n",
    "p.84"
   ]
  },
  {
   "cell_type": "markdown",
   "metadata": {},
   "source": [
    "**5-3. Alien Colors #1**"
   ]
  },
  {
   "cell_type": "code",
   "execution_count": 14,
   "metadata": {},
   "outputs": [
    {
     "name": "stdout",
     "output_type": "stream",
     "text": [
      "You just earned 5 points\n"
     ]
    }
   ],
   "source": [
    "alien_color = 'green'\n",
    "if alien_color is 'green':\n",
    "    print(\"You just earned 5 points\")\n",
    "else:\n",
    "    print(\"No points for you\")"
   ]
  },
  {
   "cell_type": "markdown",
   "metadata": {},
   "source": [
    "**5-4. Alien Colors #2**"
   ]
  },
  {
   "cell_type": "code",
   "execution_count": 16,
   "metadata": {},
   "outputs": [
    {
     "name": "stdout",
     "output_type": "stream",
     "text": [
      "You just earned 10 points\n"
     ]
    }
   ],
   "source": [
    "alien_color = 'green'\n",
    "if alien_color is 'red':\n",
    "    print(\"You just earned 5 points\")\n",
    "else:\n",
    "    print(\"You just earned 10 points\")"
   ]
  },
  {
   "cell_type": "markdown",
   "metadata": {},
   "source": [
    "p.85\n",
    "<br><br></br>\n",
    "**5-5. Alien Colors #3**"
   ]
  },
  {
   "cell_type": "code",
   "execution_count": 30,
   "metadata": {},
   "outputs": [
    {
     "name": "stdout",
     "output_type": "stream",
     "text": [
      "You just earned 5 points\n",
      "You just earned 10 points\n",
      "You just earned 15 points\n"
     ]
    }
   ],
   "source": [
    "alien_color = 'green'\n",
    "if alien_color is 'green':\n",
    "    print(\"You just earned 5 points\")\n",
    "elif alien_color is 'yellow':\n",
    "    print(\"You just earned 10 points\")    \n",
    "else:\n",
    "    print(\"You just earned 15 points\")\n",
    "    \n",
    "alien_color = 'yellow'\n",
    "if alien_color is 'green':\n",
    "    print(\"You just earned 5 points\")\n",
    "elif alien_color is 'yellow':\n",
    "    print(\"You just earned 10 points\")    \n",
    "else:\n",
    "    print(\"You just earned 15 points\")\n",
    "    \n",
    "alien_color = 'red'\n",
    "if alien_color is 'green':\n",
    "    print(\"You just earned 5 points\")\n",
    "elif alien_color is 'yellow':\n",
    "    print(\"You just earned 10 points\")    \n",
    "else:\n",
    "    print(\"You just earned 15 points\")"
   ]
  },
  {
   "cell_type": "code",
   "execution_count": 47,
   "metadata": {},
   "outputs": [
    {
     "name": "stdout",
     "output_type": "stream",
     "text": [
      "You just earned 5 points\n",
      "You just earned 10 points\n",
      "You just earned 15 points\n"
     ]
    }
   ],
   "source": [
    "alien_color = ['green', 'yellow', 'red']\n",
    "for color in alien_color:\n",
    "    if color is 'green':\n",
    "        print(\"You just earned 5 points\")\n",
    "    elif color is 'yellow':\n",
    "        print(\"You just earned 10 points\")    \n",
    "    else:\n",
    "        print(\"You just earned 15 points\")"
   ]
  },
  {
   "cell_type": "markdown",
   "metadata": {},
   "source": [
    "**5-6. Stages of Life**"
   ]
  },
  {
   "cell_type": "code",
   "execution_count": 35,
   "metadata": {},
   "outputs": [
    {
     "name": "stdout",
     "output_type": "stream",
     "text": [
      "Person is a baby\n"
     ]
    }
   ],
   "source": [
    "age = 1\n",
    "if age < 2:\n",
    "    print(\"Person is a baby\")\n",
    "elif age >= 2 and age < 4:\n",
    "    print(\"Person is a toddler\")\n",
    "elif age >= 4 and age < 13:\n",
    "    print(\"Person is a kid\")\n",
    "elif age >= 13 and age < 20:\n",
    "    print(\"Person is a teenager\")\n",
    "elif age >= 20 and age < 65:\n",
    "    print(\"Person is an adult\")\n",
    "else:\n",
    "    print(\"Person is an elder\")   "
   ]
  },
  {
   "cell_type": "markdown",
   "metadata": {},
   "source": [
    "**5-7. Favorite Fruit**"
   ]
  },
  {
   "cell_type": "code",
   "execution_count": 45,
   "metadata": {},
   "outputs": [
    {
     "name": "stdout",
     "output_type": "stream",
     "text": [
      "You really like bananas!\n",
      "You really like apples!\n",
      "You really like pears!\n"
     ]
    }
   ],
   "source": [
    "favorite_fruits = ['bananas', 'apples', 'pears']\n",
    "for fruit in favorite_fruits:\n",
    "    if fruit is 'bananas':\n",
    "        print(\"You really like bananas!\")\n",
    "    if fruit == 'apples':\n",
    "        print(\"You really like apples!\")\n",
    "    if fruit == 'pears':\n",
    "        print(\"You really like pears!\")\n",
    "    if fruit == 'strawberries':\n",
    "        print(\"You really like strawberries!\")\n",
    "    if fruit == 'rasberries':\n",
    "        print(\"You really like rasberries!\")"
   ]
  },
  {
   "cell_type": "markdown",
   "metadata": {},
   "source": [
    "p.89\n",
    "<br><br></br>\n",
    "**5-8. Hello Admin**"
   ]
  },
  {
   "cell_type": "code",
   "execution_count": 30,
   "metadata": {},
   "outputs": [
    {
     "name": "stdout",
     "output_type": "stream",
     "text": [
      "Hello admin, would you like to see the status report?\n",
      "Hello Dan, thank you for logging in again.\n",
      "Hello Connie, thank you for logging in again.\n",
      "Hello Sam, thank you for logging in again.\n",
      "Hello Radu, thank you for logging in again.\n"
     ]
    }
   ],
   "source": [
    "usernames = ['admin', 'dan', 'connie', 'sam', 'radu']\n",
    "for user in usernames:\n",
    "    if user is 'admin':\n",
    "        print(\"Hello admin, would you like to see the status report?\")\n",
    "    else:\n",
    "        print(f\"Hello {user.title()}, thank you for logging in again.\")"
   ]
  },
  {
   "cell_type": "markdown",
   "metadata": {},
   "source": [
    "**5-9. No Users**"
   ]
  },
  {
   "cell_type": "code",
   "execution_count": 31,
   "metadata": {},
   "outputs": [
    {
     "name": "stdout",
     "output_type": "stream",
     "text": [
      "Hello admin, would you like to see the status report?\n",
      "Hello Connie, thank you for logging in again.\n",
      "Hello Radu, thank you for logging in again.\n",
      "Hello Sam, thank you for logging in again.\n",
      "Hello Radu, thank you for logging in again.\n",
      "We need to find some users!\n"
     ]
    }
   ],
   "source": [
    "while True:\n",
    "    if usernames:\n",
    "        i = 0\n",
    "        for user in usernames:\n",
    "            if user is 'admin':\n",
    "                print(\"Hello admin, would you like to see the status report?\")\n",
    "                usernames.pop(i)\n",
    "            else:\n",
    "                print(f\"Hello {user.title()}, thank you for logging in again.\")\n",
    "                usernames.pop(i)\n",
    "    else:\n",
    "        print(\"We need to find some users!\")\n",
    "        break"
   ]
  },
  {
   "cell_type": "code",
   "execution_count": 32,
   "metadata": {},
   "outputs": [
    {
     "name": "stdout",
     "output_type": "stream",
     "text": [
      "[]\n"
     ]
    }
   ],
   "source": [
    "print(usernames)"
   ]
  },
  {
   "cell_type": "markdown",
   "metadata": {},
   "source": [
    "**5-10. Checking Usernames**"
   ]
  },
  {
   "cell_type": "code",
   "execution_count": 2,
   "metadata": {},
   "outputs": [
    {
     "name": "stdout",
     "output_type": "stream",
     "text": [
      "['user1', 'user2', 'user3', 'user4', 'user5']\n",
      "You will need to enter a new username.\n",
      "You will need to enter a new username.\n",
      "That username is available.\n",
      "That username is available.\n",
      "That username is available.\n"
     ]
    }
   ],
   "source": [
    "current_users = ['USER1', 'USER2', 'user3', 'user4', 'user5']\n",
    "lowercase_current = [user.lower() for user in current_users]\n",
    "print(lowercase_current)\n",
    "\n",
    "new_users = ['user1', 'user2', 'user6', 'user7', 'user8']\n",
    "\n",
    "for user in new_users:\n",
    "    if user in lowercase_current:\n",
    "        print(\"You will need to enter a new username.\")\n",
    "    else:\n",
    "        print(\"That username is available.\")"
   ]
  },
  {
   "cell_type": "markdown",
   "metadata": {},
   "source": [
    "**5-11. Ordinal Numbers**"
   ]
  },
  {
   "cell_type": "code",
   "execution_count": 5,
   "metadata": {},
   "outputs": [
    {
     "name": "stdout",
     "output_type": "stream",
     "text": [
      "1st\n",
      "2nd\n",
      "3rd\n",
      "4th\n",
      "5th\n",
      "6th\n",
      "7th\n",
      "8th\n",
      "9th\n"
     ]
    }
   ],
   "source": [
    "numbers = [1, 2, 3, 4, 5, 6, 7, 8, 9]\n",
    "for number in numbers:\n",
    "    if number is 1:\n",
    "        print('1st')\n",
    "    elif number is 2:\n",
    "        print('2nd')\n",
    "    elif number is 3:\n",
    "        print('3rd')\n",
    "    else:\n",
    "        print(f\"{str(number)}th\")\n",
    "        "
   ]
  },
  {
   "cell_type": "code",
   "execution_count": null,
   "metadata": {},
   "outputs": [],
   "source": []
  }
 ],
 "metadata": {
  "kernelspec": {
   "display_name": "Python 3",
   "language": "python",
   "name": "python3"
  },
  "language_info": {
   "codemirror_mode": {
    "name": "ipython",
    "version": 3
   },
   "file_extension": ".py",
   "mimetype": "text/x-python",
   "name": "python",
   "nbconvert_exporter": "python",
   "pygments_lexer": "ipython3",
   "version": "3.7.6"
  }
 },
 "nbformat": 4,
 "nbformat_minor": 4
}
