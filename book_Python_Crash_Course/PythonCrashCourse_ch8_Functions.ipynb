{
 "cells": [
  {
   "cell_type": "markdown",
   "metadata": {},
   "source": [
    "# Chapter 8 - Functions\n",
    "* named blocks of code designed to do one specific job\n",
    "* allows you reuse that code as many times as you want\n",
    "* when you need to modify a function's behavior, you only have to modify one block of code, and your change takes effect everywhere you've made a call to that function"
   ]
  },
  {
   "cell_type": "markdown",
   "metadata": {},
   "source": [
    "### Arguments and Parameters (p.131)\n",
    "* keyword *def* - function definition - tells Python the name of the function (and info needed to do its job, if applicable)\n",
    "* *body* of the function - any indented lines of code that follow *def* of a function\n",
    "* *docstring* - text comment describes what a function does, Python looks for when generating documentation in programs\n",
    "* function call - tells Python to execute code in the function\n",
    "    * to *call* a function, write the name of function followed by any necessary info in parenthesis\n",
    "* by adding '*username*', function now expects a value each time you call it\n",
    "<br><br>\n",
    "* parameter - variable *username* in definition greet_user() - piece of info function needs to do its job\n",
    "* argument - piece of info that's passed from a *call* to a function\n",
    "    * a function definition can have multiple parameters, thus a function call may need multiple arguments\n",
    "pass arguments to functions in numerous ways:\n",
    "    * *positional arguments* - need to be in the same order parameters were written\n",
    "    * *keyword arguments* - each argument consists of a variable name and a value\n",
    "    * lists and dictionaries as values"
   ]
  },
  {
   "cell_type": "code",
   "execution_count": 1,
   "metadata": {},
   "outputs": [
    {
     "name": "stdout",
     "output_type": "stream",
     "text": [
      "Hello, Michelle!\n"
     ]
    }
   ],
   "source": [
    "def greet_user(username):\n",
    "    print(f\"Hello, {username.title()}!\")\n",
    "\n",
    "greet_user('michelle')"
   ]
  },
  {
   "cell_type": "markdown",
   "metadata": {},
   "source": [
    "### Return Values (p.137)\n",
    "* the *return* statement takes a value from inside a function and sends it back to the line that called the function\n"
   ]
  },
  {
   "cell_type": "markdown",
   "metadata": {},
   "source": [
    "### Making an Argument Optional (p.138)\n",
    "* give the argument an empty default value and ignore the argument unless user provides a value\n",
    "* set the default value to an empty string and move it to the end of the list of parameters\n"
   ]
  },
  {
   "cell_type": "code",
   "execution_count": 11,
   "metadata": {},
   "outputs": [
    {
     "name": "stdout",
     "output_type": "stream",
     "text": [
      "Jimi Hendrix\n",
      "John Lee Hooker\n"
     ]
    }
   ],
   "source": [
    "def get_formatted_name(first_name, last_name, middle_name=''):\n",
    "    if middle_name:\n",
    "        full_name = f\"{first_name} {middle_name} {last_name}\"\n",
    "    else:\n",
    "        full_name = f\"{first_name} {last_name}\"\n",
    "    return full_name.title()\n",
    "\n",
    "musician = get_formatted_name('jimi', 'hendrix')\n",
    "print(musician)\n",
    "\n",
    "musician = get_formatted_name('john', 'hooker', 'lee')\n",
    "print(musician)"
   ]
  },
  {
   "cell_type": "markdown",
   "metadata": {},
   "source": [
    "### Return a Dictionary (p.140)\n",
    "* a function can return any kind of value, including more complicated data strucutres like lists and dictionaries\n",
    "    * extend function to accept optional values\n",
    "    * think of *None* as a placeholder value which evaluates to *False* in a conditional test"
   ]
  },
  {
   "cell_type": "code",
   "execution_count": 1,
   "metadata": {},
   "outputs": [
    {
     "name": "stdout",
     "output_type": "stream",
     "text": [
      "{'first': 'jimi', 'last': 'hendrix', 'age': 27}\n"
     ]
    }
   ],
   "source": [
    "def build_person(first_name, last_name, age=None):\n",
    "    person = {'first': first_name, 'last': last_name}\n",
    "    if age:\n",
    "        person['age'] = age\n",
    "    return person\n",
    "\n",
    "musician = build_person('jimi', 'hendrix', age=27)\n",
    "print(musician)"
   ]
  },
  {
   "cell_type": "markdown",
   "metadata": {},
   "source": [
    "### Using a function with a while loop (p.141)\n",
    "* the *break* statement offers a straight-forward way to exit the loop at prompts"
   ]
  },
  {
   "cell_type": "code",
   "execution_count": 5,
   "metadata": {},
   "outputs": [
    {
     "name": "stdout",
     "output_type": "stream",
     "text": [
      "\n",
      "Please tell me your name:\n",
      "(enter 'q' at any time to quit)\n",
      "First name: michelle\n",
      "Last name: domingo\n",
      "\n",
      "Hello, Michelle Domingo!\n",
      "\n",
      "Please tell me your name:\n",
      "(enter 'q' at any time to quit)\n",
      "First name: q\n"
     ]
    }
   ],
   "source": [
    "def get_formatted_name(first_name, last_name):\n",
    "    full_name = f\"{first_name} {last_name}\"\n",
    "    return full_name.title()\n",
    "\n",
    "while True:\n",
    "    print(\"\\nPlease tell me your name:\")\n",
    "    print(\"(enter 'q' at any time to quit)\")\n",
    "    \n",
    "    f_name = input(\"First name: \")\n",
    "    if f_name == 'q':\n",
    "        break\n",
    "    l_name = input(\"Last name: \")\n",
    "    if l_name == 'q':\n",
    "        break\n",
    "        \n",
    "    formatted_name = get_formatted_name(f_name, l_name)\n",
    "    print(f\"\\nHello, {formatted_name}!\")"
   ]
  },
  {
   "cell_type": "markdown",
   "metadata": {},
   "source": [
    "### Modifying a List in a function (p.143)\n",
    "* when you pass a list to a function, any changes made to the list inside the fuction's body are permanent\n",
    "* every function should have one specific job\n",
    "* passing a copy of the list to change affects only the copy, leaving the original intact\n",
    "    * pass the original list to functions unless you have a specific reason to pass a copy\n",
    "    * more efficient to work with existing list to avoid using time and memory needed to make seperate copy\n",
    "* the slice notation [:] makes a copy of the list to send to the function\n",
    "    ex) function_name(list_name[:])\n"
   ]
  },
  {
   "cell_type": "code",
   "execution_count": 4,
   "metadata": {},
   "outputs": [
    {
     "name": "stdout",
     "output_type": "stream",
     "text": [
      "Printing model: dodecahedron\n",
      "Printing model: robot pendant\n",
      "Printing model: phone case\n",
      "\n",
      "The following models have been printed:\n",
      "dodecahedron\n",
      "robot pendant\n",
      "phone case\n",
      "['phone case', 'robot pendant', 'dodecahedron']\n"
     ]
    }
   ],
   "source": [
    "def print_models(unprinted_designs, completed_models):\n",
    "    while unprinted_designs:\n",
    "        current_design = unprinted_designs.pop()\n",
    "        print(f\"Printing model: {current_design}\")\n",
    "        completed_models.append(current_design)\n",
    "        \n",
    "def show_completed_models(completed_models):\n",
    "    print(\"\\nThe following models have been printed:\")\n",
    "    for completed_model in completed_models:\n",
    "        print(completed_model)\n",
    "        \n",
    "unprinted_designs = ['phone case', 'robot pendant', 'dodecahedron']\n",
    "completed_models = []\n",
    "\n",
    "print_models(unprinted_designs[:], completed_models)\n",
    "show_completed_models(completed_models)\n",
    "print(unprinted_designs)"
   ]
  },
  {
   "cell_type": "markdown",
   "metadata": {},
   "source": [
    "### Mixing Positional and Arbitrary Number of Arguments (p.148)\n",
    "* the generic parameter name **args* - collects arbitrary positional arguments\n",
    "    * the asterisk in the parameter name *args tells Python to make an empty tuple called *args and pack whatever values it receives into this tuple (even if the function only receives one value)\n",
    "* if you want a function to accept several different kinds of arguments, the parameter that accepts an arbitrary number of arguments must be placed last in the function definition\n",
    "    * Python matches positional and keyword arguments first and then collects any remaining arguments in the final parameter"
   ]
  },
  {
   "cell_type": "code",
   "execution_count": 14,
   "metadata": {},
   "outputs": [
    {
     "name": "stdout",
     "output_type": "stream",
     "text": [
      "\n",
      "Making a 16-inch pizza with the following toppings:\n",
      "- pepperoni\n",
      "\n",
      "Making a 12-inch pizza with the following toppings:\n",
      "- mushrooms\n",
      "- green peppers\n",
      "- extra cheese\n"
     ]
    }
   ],
   "source": [
    "def make_pizza(size, *toppings):\n",
    "    print(f\"\\nMaking a {size}-inch pizza with the following toppings:\")\n",
    "    for topping in toppings:\n",
    "        print(f\"- {topping}\")\n",
    "\n",
    "make_pizza(16, 'pepperoni')\n",
    "make_pizza(12, 'mushrooms', 'green peppers', 'extra cheese')"
   ]
  },
  {
   "cell_type": "markdown",
   "metadata": {},
   "source": [
    "### Using Arbitrary Keyword Arguments (p.148)\n",
    "* the generic parameter name ***kwargs* - collects non-specific keyword arguments\n",
    "* use when you don't know ahead of time amount/what kind of information will be passed to the function\n",
    "    * write functions that accept as many key-value pairs as the calling statement provides\n",
    "* double asterisks before the parameter ***user_info* cause Python to create an empty dictionary called user_info and pack whatever name-value pairs it receives into this dictionary"
   ]
  },
  {
   "cell_type": "code",
   "execution_count": 5,
   "metadata": {},
   "outputs": [
    {
     "name": "stdout",
     "output_type": "stream",
     "text": [
      "{'location': 'princeton', 'field': 'physics', 'first_name': 'Albert', 'last_name': 'Einstein'}\n"
     ]
    }
   ],
   "source": [
    "def build_profile(first, last, **user_info):\n",
    "    user_info['first_name'] = first.title()\n",
    "    user_info['last_name'] = last.title()\n",
    "    return user_info\n",
    "\n",
    "user_profile = build_profile('albert', 'einstein', location='princeton', field='physics')\n",
    "\n",
    "print(user_profile)"
   ]
  },
  {
   "cell_type": "markdown",
   "metadata": {},
   "source": [
    "---\n",
    "## Storing Functions in Modules (p.150)\n",
    "* store functions in a seperate file called a *module*\n",
    "    * a *module* - file ending in *.py* contains code you want to import into your program\n",
    "* an *import* statement tells Python to make the code in a module available in the currently running program file\n",
    "    * allows you to reuse functions in many different programs\n",
    "    * allows you to use libraries of functions that other programmers have written\n",
    "\n",
    "### Importing an Entire Module (p.151)\n",
    "* simply write *import* followed by name of the module - makes every function available through the following syntax:\n",
    "\n",
    "    import *module_name*\n",
    "\n",
    "    *module_name.function_name()*\n",
    "    \n",
    "### Importing Specific Functions (p.152)\n",
    "* import specific function from a module (don't need to use the dot notation bc explicitly imported from module):\n",
    "\n",
    "    from *module_name* import *function_name*\n",
    "    \n",
    "    \n",
    "* import as many functions as you want by separating each function's name with a comma:\n",
    "\n",
    "    from *module_name* import *function_0, function_1, function_2*\n",
    "    \n",
    "### Importing all Functions in a Module (p.153)\n",
    "* you can tell Python to import every function in a module by using asterisk(*) operator:\n",
    "\n",
    "    from *module_name* import *<br><br>\n",
    "    \n",
    "* because every function is imported, you can call each function by name without dot notation\n",
    "* NOT the best approach bc Python may see several functions/variable with same name then overwrite - unexpected results\n",
    "* best approach in to import the funtion(s) or import entire model and use dot notation - leads to clear code\n",
    "    \n",
    "### Function or Module Aliases - using as (p.152)\n",
    "* if name of function importing may conflict with existing name in program or function name too long, use an *alias*\n",
    "    * *alias* - alternate name similar to nickname\n",
    "\n",
    "\n",
    "* general syntax for function alias:\n",
    "\n",
    "    from *module_name* import *function_name* as *fn*<br><br>\n",
    "\n",
    "* general syntax for module alias (function names which tell what it does, more important to readability than module name):\n",
    "\n",
    "    import *module_name* as *mn*"
   ]
  },
  {
   "cell_type": "markdown",
   "metadata": {},
   "source": [
    "### Styling Functions (p.154)\n",
    "* Functions should have descriptive names with lowercase letters and underscores\n",
    "    * Module names should use same convention\n",
    "* if you specify a default value for a parameter/keyword arguments - no spaces should be used on either side of the equal sign:\n",
    "\n",
    "    def *function_name(paramter_0, parameter_1='*default value*')<br><br>\n",
    "\n",
    "* PEP8 recommends to limit lines of code to 79 chars\n",
    "* program/module with more than one function - separate each by two (2) blank lines"
   ]
  },
  {
   "cell_type": "code",
   "execution_count": null,
   "metadata": {},
   "outputs": [],
   "source": []
  },
  {
   "cell_type": "markdown",
   "metadata": {},
   "source": [
    "---\n",
    "# Practice Problems\n",
    "p.131"
   ]
  },
  {
   "cell_type": "markdown",
   "metadata": {},
   "source": [
    "**8-1. Message**"
   ]
  },
  {
   "cell_type": "code",
   "execution_count": 3,
   "metadata": {},
   "outputs": [
    {
     "name": "stdout",
     "output_type": "stream",
     "text": [
      "Hey Michelle, I'm learning about Python functions.\n"
     ]
    }
   ],
   "source": [
    "def display_message(peeps):\n",
    "    print(f\"Hey {peeps.title()}, I'm learning about Python functions.\")\n",
    "    \n",
    "display_message('michelle')"
   ]
  },
  {
   "cell_type": "markdown",
   "metadata": {},
   "source": [
    "**8-2. Favorite Book**"
   ]
  },
  {
   "cell_type": "code",
   "execution_count": 5,
   "metadata": {},
   "outputs": [
    {
     "name": "stdout",
     "output_type": "stream",
     "text": [
      "My favorite book is The Four Agreements.\n"
     ]
    }
   ],
   "source": [
    "def favorite_book(title):\n",
    "    print(f\"My favorite book is {title.title()}.\")\n",
    "\n",
    "favorite_book('the four agreements')"
   ]
  },
  {
   "cell_type": "markdown",
   "metadata": {},
   "source": [
    "p.137\n",
    "<br><br></br>\n",
    "**8-3. T-Shirt**"
   ]
  },
  {
   "cell_type": "code",
   "execution_count": 6,
   "metadata": {},
   "outputs": [
    {
     "name": "stdout",
     "output_type": "stream",
     "text": [
      "Print \"YOLO\" on a small shirt.\n",
      "Print \"ALOHA\" on a large shirt.\n"
     ]
    }
   ],
   "source": [
    "def make_shirt(size, message):\n",
    "    print(f\"Print \\\"{message.upper()}\\\" on a {size} shirt.\")\n",
    "\n",
    "make_shirt('small', 'yolo')\n",
    "make_shirt(message='aloha', size='large')"
   ]
  },
  {
   "cell_type": "markdown",
   "metadata": {},
   "source": [
    "**8-4. Large Shirts**"
   ]
  },
  {
   "cell_type": "code",
   "execution_count": 7,
   "metadata": {},
   "outputs": [
    {
     "name": "stdout",
     "output_type": "stream",
     "text": [
      "Print \"I love Python\" on a large shirt.\n",
      "Print \"I love Python\" on a medium shirt.\n",
      "Print \"aloha\" on a small shirt.\n"
     ]
    }
   ],
   "source": [
    "def make_shirt(size='large', message='I love Python'):\n",
    "    print(f\"Print \\\"{message}\\\" on a {size} shirt.\")\n",
    "\n",
    "make_shirt()\n",
    "make_shirt('medium')\n",
    "make_shirt(message='aloha', size='small')"
   ]
  },
  {
   "cell_type": "markdown",
   "metadata": {},
   "source": [
    "**8-5. Cities**"
   ]
  },
  {
   "cell_type": "code",
   "execution_count": 9,
   "metadata": {},
   "outputs": [
    {
     "name": "stdout",
     "output_type": "stream",
     "text": [
      "Reykjavik is in Iceland\n",
      "Akureyri is in Iceland\n",
      "Honolulu is in Hawaii\n"
     ]
    }
   ],
   "source": [
    "def describe_city(city, country='iceland'):\n",
    "    print(f\"{city.title()} is in {country.title()}\")\n",
    "    \n",
    "describe_city('reykjavik')\n",
    "describe_city('akureyri')\n",
    "describe_city('honolulu', 'hawaii')"
   ]
  },
  {
   "cell_type": "markdown",
   "metadata": {},
   "source": [
    "p.142\n",
    "<br><br></br>\n",
    "**8-6. City Names**"
   ]
  },
  {
   "cell_type": "code",
   "execution_count": 18,
   "metadata": {},
   "outputs": [
    {
     "name": "stdout",
     "output_type": "stream",
     "text": [
      "\"Honolulu, Unites States\"\n",
      "\"Manila, Philippines\"\n",
      "\"Athens, Greece\"\n"
     ]
    }
   ],
   "source": [
    "def city_country(city, country):\n",
    "    output = f\"\\\"{city}, {country}\\\"\"\n",
    "    print(output.title())\n",
    "\n",
    "city_country('honolulu', 'unites states')\n",
    "city_country('manila', 'philippines')\n",
    "city_country('athens', 'greece')"
   ]
  },
  {
   "cell_type": "markdown",
   "metadata": {},
   "source": [
    "**8-7. Album**"
   ]
  },
  {
   "cell_type": "code",
   "execution_count": 22,
   "metadata": {},
   "outputs": [
    {
     "name": "stdout",
     "output_type": "stream",
     "text": [
      "{'Artist name': 'robyn', 'Album title': 'call me', 'Number of tracks': '12'}\n",
      "{'Artist name': 'Mariah Cary', 'Album title': 'Butterfly'}\n",
      "{'Artist name': 'Lauren Hill', 'Album title': 'Miseducation'}\n"
     ]
    }
   ],
   "source": [
    "def make_album(name, title, tracks=None):\n",
    "    album = {'Artist name': name, 'Album title': title}\n",
    "    if tracks:\n",
    "        album['Number of tracks'] = tracks\n",
    "    print(album)\n",
    "\n",
    "make_album('robyn', 'call me', '12')\n",
    "make_album('Mariah Cary', 'Butterfly')\n",
    "make_album('Lauren Hill', 'Miseducation')"
   ]
  },
  {
   "cell_type": "markdown",
   "metadata": {},
   "source": [
    "**8-8. User Albums**"
   ]
  },
  {
   "cell_type": "code",
   "execution_count": 27,
   "metadata": {},
   "outputs": [
    {
     "name": "stdout",
     "output_type": "stream",
     "text": [
      "Tell me about your favorite album. Enter 'q' to quit.\n",
      "What is the artist name? lauren hill\n",
      "What is the album title? miseducation\n",
      "{'Artist name': 'Lauren Hill', 'Album title': 'Miseducation'}\n",
      "Tell me about your favorite album. Enter 'q' to quit.\n",
      "What is the artist name? q\n"
     ]
    }
   ],
   "source": [
    "def make_album(name, title):\n",
    "    album = {'Artist name': name.title(), 'Album title': title.title()}\n",
    "    print(album)\n",
    "    \n",
    "while True:\n",
    "    print(\"Tell me about your favorite album. Enter 'q' to quit.\")\n",
    "    name = input(\"What is the artist name? \")\n",
    "    if name == 'q':\n",
    "        break\n",
    "    title = input(\"What is the album title? \")\n",
    "    if title == 'q':\n",
    "        break\n",
    "        \n",
    "    make_album(name, title)"
   ]
  },
  {
   "cell_type": "markdown",
   "metadata": {},
   "source": [
    "p.146\n",
    "<br><br></br>\n",
    "**8-9. Messages**"
   ]
  },
  {
   "cell_type": "code",
   "execution_count": 8,
   "metadata": {},
   "outputs": [
    {
     "name": "stdout",
     "output_type": "stream",
     "text": [
      "I Love You\n",
      "Fuck You\n",
      "Practice Makes Perfect\n"
     ]
    }
   ],
   "source": [
    "def show_messages(texts):\n",
    "    for text in texts:\n",
    "        print(text.title())\n",
    "\n",
    "texts = ['i love you', 'fuck you', 'practice makes perfect']\n",
    "show_messages(texts)"
   ]
  },
  {
   "cell_type": "markdown",
   "metadata": {},
   "source": [
    "**8-10. Sending Messages**"
   ]
  },
  {
   "cell_type": "code",
   "execution_count": 11,
   "metadata": {},
   "outputs": [
    {
     "name": "stdout",
     "output_type": "stream",
     "text": [
      "Practice Makes Perfect\n",
      "Fuck You\n",
      "I Love You\n",
      "[]\n",
      "['practice makes perfect', 'fuck you', 'i love you']\n"
     ]
    }
   ],
   "source": [
    "def send_messages(texts):\n",
    "    while texts:\n",
    "        text = texts.pop()\n",
    "        print(text.title())\n",
    "        sent_messages.append(text)\n",
    "\n",
    "texts = ['i love you', 'fuck you', 'practice makes perfect']\n",
    "sent_messages = []\n",
    "send_messages(texts)\n",
    "print(texts)\n",
    "print(sent_messages)"
   ]
  },
  {
   "cell_type": "markdown",
   "metadata": {},
   "source": [
    "**8-11. Archive Messages**"
   ]
  },
  {
   "cell_type": "code",
   "execution_count": 12,
   "metadata": {},
   "outputs": [
    {
     "name": "stdout",
     "output_type": "stream",
     "text": [
      "Practice Makes Perfect\n",
      "Fuck You\n",
      "I Love You\n",
      "['i love you', 'fuck you', 'practice makes perfect']\n",
      "['practice makes perfect', 'fuck you', 'i love you']\n"
     ]
    }
   ],
   "source": [
    "def send_messages(texts):\n",
    "    while texts:\n",
    "        text = texts.pop()\n",
    "        print(text.title())\n",
    "        sent_messages.append(text)\n",
    "\n",
    "texts = ['i love you', 'fuck you', 'practice makes perfect']\n",
    "sent_messages = []\n",
    "send_messages(texts[:])\n",
    "print(texts)\n",
    "print(sent_messages)"
   ]
  },
  {
   "cell_type": "markdown",
   "metadata": {},
   "source": [
    "p.150\n",
    "<br><br></br>\n",
    "**8-12. Sandwiches**"
   ]
  },
  {
   "cell_type": "code",
   "execution_count": 8,
   "metadata": {},
   "outputs": [
    {
     "name": "stdout",
     "output_type": "stream",
     "text": [
      "Making your sandwich with:\n",
      "\tCheese\n",
      "\tHam\n",
      "\tPepperoni\n",
      "Making your sandwich with:\n",
      "\tTuna\n",
      "\tMayo\n",
      "Making your sandwich with:\n",
      "\tLettuce\n",
      "\tBacon\n",
      "\tTomato\n"
     ]
    }
   ],
   "source": [
    "def make_sandwich(*items):\n",
    "    print(\"Making your sandwich with:\")\n",
    "    for item in items:\n",
    "        print(f\"\\t{item.title()}\")\n",
    "\n",
    "make_sandwich('cheese', 'ham', 'pepperoni')\n",
    "make_sandwich('tuna', 'mayo')\n",
    "make_sandwich('lettuce', 'bacon', 'tomato')"
   ]
  },
  {
   "cell_type": "markdown",
   "metadata": {},
   "source": [
    "**8-13. User Profile**"
   ]
  },
  {
   "cell_type": "code",
   "execution_count": 12,
   "metadata": {},
   "outputs": [
    {
     "name": "stdout",
     "output_type": "stream",
     "text": [
      "{'location': 'San Francisco', 'field': 'Software Engineer', 'first_name': 'Michelle', 'last_name': 'Domingo'}\n"
     ]
    }
   ],
   "source": [
    "def build_profile(first, last, **user_info):\n",
    "    user_info['first_name'] = first.title()\n",
    "    user_info['last_name'] = last.title()\n",
    "    return user_info\n",
    "\n",
    "user_profile = build_profile('michelle', 'domingo', location='San Francisco', field='Software Engineer')\n",
    "\n",
    "print(user_profile)"
   ]
  },
  {
   "cell_type": "markdown",
   "metadata": {},
   "source": [
    "**8-14. Cars**"
   ]
  },
  {
   "cell_type": "code",
   "execution_count": 14,
   "metadata": {},
   "outputs": [
    {
     "name": "stdout",
     "output_type": "stream",
     "text": [
      "{'color': 'blue', 'tow_package': True, 'manufacturer_name': 'Subaru', 'model_name': 'Outback'}\n"
     ]
    }
   ],
   "source": [
    "def make_car(manufacturer, model, **car_info):\n",
    "    car_info['manufacturer_name'] = manufacturer.title()\n",
    "    car_info['model_name'] = model.title()\n",
    "    return car_info\n",
    "    \n",
    "car = make_car('subaru', 'outback', color='blue', tow_package=True)\n",
    "\n",
    "print(car)"
   ]
  },
  {
   "cell_type": "markdown",
   "metadata": {},
   "source": [
    "p.155\n",
    "<br><br></br>\n",
    "**8-15. Printing Models**"
   ]
  },
  {
   "cell_type": "code",
   "execution_count": null,
   "metadata": {},
   "outputs": [],
   "source": []
  },
  {
   "cell_type": "code",
   "execution_count": null,
   "metadata": {},
   "outputs": [],
   "source": []
  }
 ],
 "metadata": {
  "kernelspec": {
   "display_name": "Python 3",
   "language": "python",
   "name": "python3"
  },
  "language_info": {
   "codemirror_mode": {
    "name": "ipython",
    "version": 3
   },
   "file_extension": ".py",
   "mimetype": "text/x-python",
   "name": "python",
   "nbconvert_exporter": "python",
   "pygments_lexer": "ipython3",
   "version": "3.7.6"
  }
 },
 "nbformat": 4,
 "nbformat_minor": 4
}
