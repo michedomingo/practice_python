{
 "cells": [
  {
   "cell_type": "markdown",
   "metadata": {},
   "source": [
    "# Chapter 9 - Classes\n",
    "* in object-orinted-programming, you write *classes* that represent real-world things/situations, and you create *objects* based on the classes\n",
    "* store information in a class using attributes\n",
    "    * *class* - defines the general behavior the whole category of objects can have\n",
    "        * by convention, capitalized names refer to classes in Python\n",
    "    * individual *objects* created from the class - each object is automatically equipped with the general behavior\n",
    "        * then give each object whatever unique traits you desire\n",
    "        * *instantiation* - making an object from a class - you workd with *instances* of a class\n",
    "* write methods that give classes the behavior they need\n",
    "* write \\__init\\__() methods that create instances from classes with exactly the attributes you want"
   ]
  },
  {
   "cell_type": "markdown",
   "metadata": {},
   "source": [
    "## Creating and using a Class (p.158)\n",
    "* example - a simple class, Dog, that represents any dog with two pieces of information (name and age) and two behaviors (sit and roll over)\n",
    "* this class tell Python how to make an object representing a dog - use it to make individual instances, each of which represents one specific dog\n",
    "    * each instance created from the Dog class will store a name and an age, and give each dog the ability to sit() and roll_over()"
   ]
  },
  {
   "cell_type": "markdown",
   "metadata": {},
   "source": [
    "### The \\__init\\__() Method (p.159)\n",
    "* a function that's part of a class is a *method*\n",
    "    * the only practical difference for now is the way we'll call method\n",
    "    * this special method runs automatically whenever we create a new instance based on the *Dog* class\n",
    "    * leading/trailing underscores convention helps prevent Python's default method names from conflicting with your method names\n",
    "* *self* parameter is required in the method definition, must come first before the other parameters\n",
    "    * must be included in definition bc when Python calls this method later (to create an instance of Dog), the method call will automatically pass *self*, which is a reference to the instance itself\n",
    "        * gives the individual instance access to the attributes and methods in the class\n",
    "* any variable prefixed with *self* is available to every method in the class\n",
    "    * also able to access these variables through any instance created from the class\n",
    "* Variables that are accessible through instances like this are called attributes\n",
    "    * the line self.name = name takes the value associated with the parameter *name* and assignes it to the variable *name*"
   ]
  },
  {
   "cell_type": "markdown",
   "metadata": {},
   "source": [
    "### Making an Instance from a Class (p.160)\n",
    "* think of a class as a set of instructions for how to make an instance\n",
    "* the \\__init\\__() method creates an instance representing this particular dog and sets the name and age attributes useing the values we provided\n",
    "    * Python then returns an instance representing this dog - we assign to variable *my_dog*\n",
    "        * capitalized name like *Dog* refers to a class\n",
    "        * lowercase name like *my_dog* refers to a single instance created from a class"
   ]
  },
  {
   "cell_type": "markdown",
   "metadata": {},
   "source": [
    "### Accessing Attributes\n",
    "* use dot notation to access the attributes of an instance\n",
    "* the syntax demonstrates how Python finds an attribute's value\n",
    "    * Python looks at the instance *my_dog* then finds the attribute *name* associated with *my_dog*\n",
    "    \n",
    "    my_dog.name"
   ]
  },
  {
   "cell_type": "code",
   "execution_count": 1,
   "metadata": {},
   "outputs": [
    {
     "name": "stdout",
     "output_type": "stream",
     "text": [
      "My dog's name is Willie.\n",
      "My dog is 6 years old.\n"
     ]
    }
   ],
   "source": [
    "class Dog:\n",
    "    \"\"\"A simmple model of a dog.\"\"\"\n",
    "    \n",
    "    def __init__(self, name, age):\n",
    "        \"\"\"Initialize name and age attributes.\"\"\"\n",
    "        self.name = name\n",
    "        self.age = age\n",
    "        \n",
    "    def sit(self):\n",
    "        \"\"\"Simulate a dog sitting in response to a command.\"\"\"\n",
    "        print(f\"{self.name} is now sitting.\")\n",
    "        \n",
    "    def roll_over(self):\n",
    "        \"\"\"Simulate a dog rolling over in response to a command.\"\"\"\n",
    "        print(f\"{self.name} is rolled over!\")\n",
    "        \n",
    "my_dog = Dog('Willie', 6)\n",
    "print(f\"My dog's name is {my_dog.name}.\")\n",
    "print(f\"My dog is {my_dog.age} years old.\")"
   ]
  },
  {
   "cell_type": "markdown",
   "metadata": {},
   "source": [
    "### Calling Methods\n",
    "* use dot notation to call any method defined in Dog\n",
    "* to call a method, give the name of the instance (in this case, my_dog) and the method you want to call, seperated by a dot."
   ]
  },
  {
   "cell_type": "code",
   "execution_count": 2,
   "metadata": {},
   "outputs": [
    {
     "name": "stdout",
     "output_type": "stream",
     "text": [
      "Willie is now sitting.\n",
      "Willie is rolled over!\n"
     ]
    }
   ],
   "source": [
    "my_dog.sit()\n",
    "my_dog.roll_over()"
   ]
  },
  {
   "cell_type": "markdown",
   "metadata": {},
   "source": [
    "### Creating Multiple Instances (p.161)\n",
    "* create as many instances from a class as you need, as long as you give each instance:\n",
    "    * a unique variable name\n",
    "    * or it occupies a unique spot in a list or dictionary"
   ]
  },
  {
   "cell_type": "code",
   "execution_count": 2,
   "metadata": {},
   "outputs": [
    {
     "name": "stdout",
     "output_type": "stream",
     "text": [
      "My dog's name is Willie.\n",
      "My dog is 6 years old.\n",
      "Willie is now sitting.\n",
      "\n",
      "Your dog's name is Lucy.\n",
      "Your dog is 3 years old.\n",
      "Lucy is now sitting.\n"
     ]
    }
   ],
   "source": [
    "class Dog:\n",
    "    \"\"\"A simmple model of a dog.\"\"\"\n",
    "    \n",
    "    def __init__(self, name, age):\n",
    "        \"\"\"Initialize name and age attributes.\"\"\"\n",
    "        self.name = name\n",
    "        self.age = age\n",
    "        \n",
    "    def sit(self):\n",
    "        \"\"\"Simulate a dog sitting in response to a command.\"\"\"\n",
    "        print(f\"{self.name} is now sitting.\")\n",
    "        \n",
    "    def roll_over(self):\n",
    "        \"\"\"Simulate a dog rolling over in response to a command.\"\"\"\n",
    "        print(f\"{self.name} is rolled over!\")\n",
    "        \n",
    "my_dog = Dog('Willie', 6)\n",
    "your_dog = Dog('Lucy', 3)\n",
    "\n",
    "print(f\"My dog's name is {my_dog.name}.\")\n",
    "print(f\"My dog is {my_dog.age} years old.\")\n",
    "my_dog.sit()\n",
    "\n",
    "print(f\"\\nYour dog's name is {your_dog.name}.\")\n",
    "print(f\"Your dog is {your_dog.age} years old.\")\n",
    "your_dog.sit()"
   ]
  },
  {
   "cell_type": "markdown",
   "metadata": {},
   "source": [
    "## Working with Classes and Instances (p.162)\n",
    "* Once you write a class, you'll spend more time working with instances created from that class\n",
    "    * modify the attributes of an instance directly, or\n",
    "    * write methods that update attributes in specific ways"
   ]
  },
  {
   "cell_type": "markdown",
   "metadata": {},
   "source": [
    "### Setting a Default Value for an Attribute (p.163)\n",
    "* when an instance is created, attributes can be defined without being passed in as parameters\n",
    "    * these attributes can be defined in the __init__() method, where they are assigned a default value"
   ]
  },
  {
   "cell_type": "code",
   "execution_count": 12,
   "metadata": {},
   "outputs": [
    {
     "name": "stdout",
     "output_type": "stream",
     "text": [
      "2019 Audi A4\n",
      "This car has 0 miles on it.\n"
     ]
    }
   ],
   "source": [
    "class Car:\n",
    "    \"\"\"A simple attempt to represent a car.\"\"\"\n",
    "    \n",
    "    def __init__(self, make, model, year):\n",
    "        \"\"\"Initialize attributes to describe a car.\"\"\"\n",
    "        self.make = make\n",
    "        self.model = model\n",
    "        self.year = year\n",
    "        self.odometer_reading = 0\n",
    "        \n",
    "    def get_descriptive_name(self):\n",
    "        \"\"\"Return a neatly formated descriptive name.\"\"\"\n",
    "        long_name = f\"{self.year} {self.make} {self.model}\"\n",
    "        return long_name.title()\n",
    "    \n",
    "    def read_odometer(self):\n",
    "        \"\"\"Print a statement showing the car's mileage.\"\"\"\n",
    "        print(f\"This car has {self.odometer_reading} miles on it.\")\n",
    "        \n",
    "    def update_odometer(self, mileage):\n",
    "        \"\"\"p.165\n",
    "        Set the odomoeter reading to the given value.\n",
    "        Rejct the change if it attempts to roll the odometer back\n",
    "        \"\"\"\n",
    "        if mileage >= self.odometer_reading:\n",
    "            self.odometer_reading = mileage\n",
    "        else:\n",
    "            print(\"You can't roll back an odometer!\")\n",
    "    \n",
    "    def increment_odometer(self, miles):\n",
    "        \"\"\"p.166\n",
    "        Add the given amount to the odometer reading\n",
    "        \"\"\"\n",
    "        self.odometer_reading += miles\n",
    "\n",
    "my_new_car = Car('audi', 'a4', 2019)\n",
    "print(my_new_car.get_descriptive_name())\n",
    "my_new_car.read_odometer()"
   ]
  },
  {
   "cell_type": "markdown",
   "metadata": {},
   "source": [
    "### Modifying Attribute Values (p.164)\n",
    "* Change an attributes values in three ways:\n",
    "        1) change the value directly through an instance\n",
    "        2) set the value through a method\n",
    "        3) increment the value (add a certain amount to it) through a method"
   ]
  },
  {
   "cell_type": "markdown",
   "metadata": {},
   "source": [
    "#### Modifying an Attribute's Value Directly\n",
    "* simplest way to modify the value\n",
    "* use dot notation to access and set its value directly"
   ]
  },
  {
   "cell_type": "code",
   "execution_count": 6,
   "metadata": {},
   "outputs": [
    {
     "name": "stdout",
     "output_type": "stream",
     "text": [
      "2019 Audi A4\n",
      "This car has 23 miles on it.\n"
     ]
    }
   ],
   "source": [
    "my_new_car.odometer_reading = 23\n",
    "print(my_new_car.get_descriptive_name())\n",
    "my_new_car.read_odometer()"
   ]
  },
  {
   "cell_type": "markdown",
   "metadata": {},
   "source": [
    "#### Modifying an Attribute's Value through a Method (p.165)\n",
    "* pass the new value to a method that handles the updating internally"
   ]
  },
  {
   "cell_type": "code",
   "execution_count": 8,
   "metadata": {},
   "outputs": [
    {
     "name": "stdout",
     "output_type": "stream",
     "text": [
      "2019 Audi A4\n",
      "This car has 40 miles on it.\n"
     ]
    }
   ],
   "source": [
    "my_new_car.update_odometer(40)\n",
    "print(my_new_car.get_descriptive_name())\n",
    "my_new_car.read_odometer()"
   ]
  },
  {
   "cell_type": "markdown",
   "metadata": {},
   "source": [
    "#### Incrementing an Attribute's Value through a Method (p.166)\n",
    "* increment by a certain amount rather than set an entirely new value"
   ]
  },
  {
   "cell_type": "code",
   "execution_count": 13,
   "metadata": {},
   "outputs": [
    {
     "name": "stdout",
     "output_type": "stream",
     "text": [
      "2015 Subaru Outback\n",
      "This car has 23500 miles on it.\n",
      "This car has 23600 miles on it.\n"
     ]
    }
   ],
   "source": [
    "my_used_car = Car('subaru', 'outback', 2015)\n",
    "print(my_used_car.get_descriptive_name())\n",
    "\n",
    "my_used_car.update_odometer(23_500)\n",
    "my_used_car.read_odometer()\n",
    "\n",
    "my_used_car.increment_odometer(100)\n",
    "my_used_car.read_odometer()"
   ]
  },
  {
   "cell_type": "markdown",
   "metadata": {},
   "source": [
    "## Inheritence (p.167)\n",
    "* if the class you're writing is a specialized version of another class you wrote, you can use *inheritance*\n",
    "    * one class *inherits* from another - takes on the attributes and methods of the first class\n",
    "    * parent class - original class\n",
    "    * child class - new class inherits any/all atributes/methods of its parent class\n",
    "        * also free to define new attributes/methods of its own\n",
    "\n",
    "## \\__init__() Method for a Child Class (p.168)\n",
    "* when creating a child class, the parent class must be part of the current file and must appear before the child class in the file\n",
    "* name of the parent class must be included in parentheses in the definition of a child class\n",
    "    * call the \\___init___() method from the parent class to:\n",
    "        * initialize any attributes that were defined in the parent \\__init__() method\n",
    "        * make them available in the child class\n",
    "        * only have to write code for the attributes/behavior specific to the child class\n",
    "* super() function - special function allows to call a method from the parent class\n",
    "    * tells Python fo to call the \\__init__() method from parent class, which give a child class instance all the attribues defined in the method\n",
    "    * *super* comes from the a convention of calling the parent class a *superclass* and the child class a *subclass*"
   ]
  },
  {
   "cell_type": "code",
   "execution_count": 2,
   "metadata": {},
   "outputs": [],
   "source": [
    "class Car:\n",
    "    \"\"\"A simple attempt to represent a car.\"\"\"\n",
    "    \n",
    "    def __init__(self, make, model, year):\n",
    "        \"\"\"Initialize attributes to describe a car.\"\"\"\n",
    "        self.make = make\n",
    "        self.model = model\n",
    "        self.year = year\n",
    "        self.odometer_reading = 0\n",
    "        \n",
    "    def get_descriptive_name(self):\n",
    "        \"\"\"Return a neatly formated descriptive name.\"\"\"\n",
    "        long_name = f\"{self.year} {self.make} {self.model}\"\n",
    "        return long_name.title()\n",
    "    \n",
    "    def read_odometer(self):\n",
    "        \"\"\"Print a statement showing the car's mileage.\"\"\"\n",
    "        print(f\"This car has {self.odometer_reading} miles on it.\")\n",
    "        \n",
    "    def update_odometer(self, mileage):\n",
    "        \"\"\"p.165\n",
    "        Set the odomoeter reading to the given value.\n",
    "        Rejct the change if it attempts to roll the odometer back\n",
    "        \"\"\"\n",
    "        if mileage >= self.odometer_reading:\n",
    "            self.odometer_reading = mileage\n",
    "        else:\n",
    "            print(\"You can't roll back an odometer!\")\n",
    "    \n",
    "    def increment_odometer(self, miles):\n",
    "        \"\"\"p.166\n",
    "        Add the given amount to the odometer reading\n",
    "        \"\"\"\n",
    "        self.odometer_reading += miles\n",
    "\n",
    "class ElectricCar(Car):\n",
    "    \"\"\"Represent aspects of a car, specific to electric vehicles.\"\"\"\n",
    "    \n",
    "    def __init__(self, make, model, year):\n",
    "        \"\"\"Initialize attributes of the parent class.\"\"\"\n",
    "        super().__init__(make, model, year)\n",
    "        self.battery_size = 75\n",
    "        \n",
    "    def describe_battery(self):\n",
    "        \"\"\"Print a statement describing the battery size.\"\"\"\n",
    "        print(f\"This car has a {self.battery_size}-kWh battery.\")"
   ]
  },
  {
   "cell_type": "code",
   "execution_count": 3,
   "metadata": {},
   "outputs": [
    {
     "name": "stdout",
     "output_type": "stream",
     "text": [
      "2019 Tesla Model S\n"
     ]
    }
   ],
   "source": [
    "my_tesla = ElectricCar('tesla', 'model s', 2019)\n",
    "print(my_tesla.get_descriptive_name())"
   ]
  },
  {
   "cell_type": "markdown",
   "metadata": {},
   "source": [
    "### Defining Attributes and Methods for the Child Class (p.169)\n",
    "* once a child class inherits from a parent class, add any new attributes/methods necessary \n",
    "    * to differentiate the child class from the parent class\n",
    "    * no limit to how much you can specialize the child class\n",
    "* attributes added to the child class will be associated with all instances created from the child class\n",
    "    * won't be associated with any instances of the parent class"
   ]
  },
  {
   "cell_type": "code",
   "execution_count": 4,
   "metadata": {},
   "outputs": [
    {
     "name": "stdout",
     "output_type": "stream",
     "text": [
      "2019 Tesla Model S\n",
      "This car has a 75-kWh battery.\n"
     ]
    }
   ],
   "source": [
    "print(my_tesla.get_descriptive_name())\n",
    "my_tesla.describe_battery()"
   ]
  },
  {
   "cell_type": "markdown",
   "metadata": {},
   "source": [
    "### Overriding Methods from the Parent Class (p.170)\n",
    "* you can ovverride any method from the parent class that doesn't fit model of the child class\n",
    "    * define a method in the child class with the same name as the method to override in the parent class\n",
    "        * Python will disregard the parent class method and only pay attention to the child class method defined\n",
    "\n",
    "### Instances as Attributes\n",
    "* when files become lengthy with growing list of attributes/methods, recognize that part of one class can be written as a separate class\n",
    "    * break large class into smaller classes that work together\n",
    "    * use an instance as an attribute in a class"
   ]
  },
  {
   "cell_type": "code",
   "execution_count": 22,
   "metadata": {},
   "outputs": [],
   "source": [
    "class Car:\n",
    "    \"\"\"A simple attempt to represent a car.\"\"\"\n",
    "    \n",
    "    def __init__(self, make, model, year):\n",
    "        \"\"\"Initialize attributes to describe a car.\"\"\"\n",
    "        self.make = make\n",
    "        self.model = model\n",
    "        self.year = year\n",
    "        self.odometer_reading = 0\n",
    "        \n",
    "    def get_descriptive_name(self):\n",
    "        \"\"\"Return a neatly formated descriptive name.\"\"\"\n",
    "        long_name = f\"{self.year} {self.make} {self.model}\"\n",
    "        return long_name.title()\n",
    "    \n",
    "    def read_odometer(self):\n",
    "        \"\"\"Print a statement showing the car's mileage.\"\"\"\n",
    "        print(f\"This car has {self.odometer_reading} miles on it.\")\n",
    "        \n",
    "    def update_odometer(self, mileage):\n",
    "        \"\"\"p.165\n",
    "        Set the odomoeter reading to the given value.\n",
    "        Reject the change if it attempts to roll the odometer back\n",
    "        \"\"\"\n",
    "        if mileage >= self.odometer_reading:\n",
    "            self.odometer_reading = mileage\n",
    "        else:\n",
    "            print(\"You can't roll back an odometer!\")\n",
    "    \n",
    "    def increment_odometer(self, miles):\n",
    "        \"\"\"p.166\n",
    "        Add the given amount to the odometer reading\n",
    "        \"\"\"\n",
    "        self.odometer_reading += miles\n",
    "        \n",
    "class Battery:\n",
    "    \"\"\"A simple attempt to model a battery for an electric car.\"\"\"\n",
    "    \n",
    "    def __init__(self, battery_size = 75):\n",
    "        \"\"\"Initialize the battery's attributes.\"\"\"\n",
    "        self.battery_size = battery_size\n",
    "        \n",
    "    def describe_battery(self):\n",
    "        \"\"\"Print a statement describing the battery size.\"\"\"\n",
    "        print(f\"This car has a {self.battery_size}-kWh battery.\")\n",
    "        \n",
    "    def get_range(self):\n",
    "        \"\"\"Print a statement about the range this battery provides.\"\"\"\n",
    "        if self.battery_size == 75:\n",
    "            range = 260\n",
    "        elif self.battery_size == 100:\n",
    "            range = 315\n",
    "        \n",
    "        print(f\"This car can go about {range} miles on a full charge.\")\n",
    "\n",
    "class ElectricCar(Car):\n",
    "    \"\"\"Represent aspects of a car, specific to electric vehicles.\"\"\"\n",
    "    \n",
    "    def __init__(self, make, model, year):\n",
    "        \"\"\"\n",
    "        Initialize attributes of the parent class.\n",
    "        Then initialize attributes specific to an electric car.\n",
    "        \"\"\"   \n",
    "        super().__init__(make, model, year)\n",
    "        self.battery = Battery()"
   ]
  },
  {
   "cell_type": "markdown",
   "metadata": {},
   "source": [
    "#### * any ElectricCar instance will now have a Battery instance created automatically\n",
    "#### * to describe the battery, work through the car's battery attribute"
   ]
  },
  {
   "cell_type": "code",
   "execution_count": 23,
   "metadata": {},
   "outputs": [
    {
     "name": "stdout",
     "output_type": "stream",
     "text": [
      "2019 Tesla Model S\n",
      "This car has a 75-kWh battery.\n",
      "This car can go about 260 miles on a full charge.\n"
     ]
    }
   ],
   "source": [
    "my_tesla = ElectricCar('tesla', 'model s', 2019)\n",
    "print(my_tesla.get_descriptive_name())\n",
    "\n",
    "my_tesla.battery.describe_battery() # to describe the battery, work through the car's battery attribute\n",
    "my_tesla.battery.get_range()"
   ]
  },
  {
   "cell_type": "code",
   "execution_count": null,
   "metadata": {},
   "outputs": [],
   "source": []
  },
  {
   "cell_type": "markdown",
   "metadata": {},
   "source": [
    "---\n",
    "# Practice Problems\n",
    "p.162"
   ]
  },
  {
   "cell_type": "markdown",
   "metadata": {},
   "source": [
    "**9-1. Restaurant**"
   ]
  },
  {
   "cell_type": "code",
   "execution_count": 8,
   "metadata": {},
   "outputs": [
    {
     "name": "stdout",
     "output_type": "stream",
     "text": [
      "The Bird\n",
      "American\n",
      "The Bird is a restaurant that serves American cuisine.\n",
      "The Bird is now open.\n"
     ]
    }
   ],
   "source": [
    "class Restaurant:\n",
    "    \"\"\"Defines a type of restaurant\"\"\"\n",
    "    def __init__(self, restaurant_name, cuisine_type):\n",
    "        \"\"\"Initialize attributes\"\"\"\n",
    "        self.restaurant_name = restaurant_name.title()\n",
    "        self.cuisine_type = cuisine_type.title()\n",
    "    \n",
    "    def describe_restaurant(self):\n",
    "        \"\"\"Prints restaurant info\"\"\"\n",
    "        print(f\"{self.restaurant_name} is a restaurant that serves {self.cuisine_type} cuisine.\")\n",
    "    \n",
    "    def open_restaurant(self):\n",
    "        \"\"\"Prints message indicating restaurant is open\"\"\"\n",
    "        print(f\"{self.restaurant_name} is now open.\")\n",
    "        \n",
    "restaurant = Restaurant('the bird', 'american')\n",
    "print(restaurant.restaurant_name)\n",
    "print(restaurant.cuisine_type)\n",
    "restaurant.describe_restaurant()\n",
    "restaurant.open_restaurant()"
   ]
  },
  {
   "cell_type": "markdown",
   "metadata": {},
   "source": [
    "**9-2. Three Restaurants**"
   ]
  },
  {
   "cell_type": "code",
   "execution_count": 9,
   "metadata": {},
   "outputs": [
    {
     "name": "stdout",
     "output_type": "stream",
     "text": [
      "Lapisara is a restaurant that serves Thai cuisine.\n",
      "Cocobang is a restaurant that serves Korean cuisine.\n",
      "Ryoko is a restaurant that serves Japanese cuisine.\n"
     ]
    }
   ],
   "source": [
    "restaurant1 = Restaurant('lapisara', 'thai')\n",
    "restaurant2 = Restaurant('cocobang', 'korean')\n",
    "restaurant3 = Restaurant('ryoko', 'japanese')\n",
    "\n",
    "restaurant1.describe_restaurant()\n",
    "restaurant2.describe_restaurant()\n",
    "restaurant3.describe_restaurant()"
   ]
  },
  {
   "cell_type": "markdown",
   "metadata": {},
   "source": [
    "**9-3. Users**"
   ]
  },
  {
   "cell_type": "code",
   "execution_count": 13,
   "metadata": {},
   "outputs": [
    {
     "name": "stdout",
     "output_type": "stream",
     "text": [
      "Michelle Domingo from San Francisco\n",
      "Hello, Michelle Domingo!\n",
      "Radhika Gana from Bombay\n",
      "Hello, Radhika Gana!\n"
     ]
    }
   ],
   "source": [
    "class User:\n",
    "    \"\"\"A model of a user profile\"\"\"\n",
    "    def __init__(self, first_name, last_name, location):\n",
    "        \"\"\"Initialize attributes\"\"\"\n",
    "        self.first_name = first_name.title()\n",
    "        self.last_name = last_name.title()\n",
    "        self.location = location.title()\n",
    "        \n",
    "    def describe_user(self):\n",
    "        \"\"\"Print user info\"\"\"\n",
    "        print(f\"{self.first_name} {self.last_name} from {self.location}\")\n",
    "    \n",
    "    def greet_user(self):\n",
    "        \"\"\"Prints personalized greeting\"\"\"\n",
    "        print(f\"Hello, {self.first_name} {self.last_name}!\")\n",
    "        \n",
    "user1 = User('michelle', 'domingo', 'san francisco')\n",
    "user2 = User('radhika', 'gana', 'bombay')\n",
    "\n",
    "user1.describe_user()\n",
    "user1.greet_user()\n",
    "user2.describe_user()\n",
    "user2.greet_user()"
   ]
  },
  {
   "cell_type": "markdown",
   "metadata": {},
   "source": [
    "**9-4. Number Served**"
   ]
  },
  {
   "cell_type": "code",
   "execution_count": 30,
   "metadata": {},
   "outputs": [],
   "source": [
    "class Restaurant:\n",
    "    \"\"\"Defines a type of restaurant\"\"\"\n",
    "    def __init__(self, restaurant_name, cuisine_type):\n",
    "        \"\"\"Initialize attributes\"\"\"\n",
    "        self.restaurant_name = restaurant_name.title()\n",
    "        self.cuisine_type = cuisine_type.title()\n",
    "        self.number_served = 0\n",
    "    \n",
    "    def describe_restaurant(self):\n",
    "        \"\"\"Prints restaurant info\"\"\"\n",
    "        print(f\"{self.restaurant_name} is a restaurant that serves {self.cuisine_type} cuisine.\")\n",
    "    \n",
    "    def open_restaurant(self):\n",
    "        \"\"\"Prints message indicating restaurant is open.\"\"\"\n",
    "        print(f\"{self.restaurant_name} is now open.\")\n",
    "        \n",
    "    def set_number_served(self, customer_amount):\n",
    "        \"\"\"Set the number of customers who've been served.\"\"\"\n",
    "        if customer_amount >= self.number_served:\n",
    "            self.number_served = customer_amount\n",
    "        else:\n",
    "            print(\"You can't roll back the customer amount!\")\n",
    "            \n",
    "    def increment_number_served(self, increment):\n",
    "        \"\"\"Increment the number of customers who've been served.\"\"\"\n",
    "        if increment >= 0:\n",
    "            self.number_served += increment\n",
    "        else:\n",
    "            print(\"You can't roll back the customer amount!\")"
   ]
  },
  {
   "cell_type": "code",
   "execution_count": 31,
   "metadata": {},
   "outputs": [
    {
     "name": "stdout",
     "output_type": "stream",
     "text": [
      "The Bird has served 0 customers today.\n",
      "The Bird has served 10 customers today.\n"
     ]
    }
   ],
   "source": [
    "restaurant = Restaurant('the bird', 'american')\n",
    "print(f\"{restaurant.restaurant_name} has served {restaurant.number_served} customers today.\")\n",
    "\n",
    "restaurant.number_served = 10\n",
    "print(f\"{restaurant.restaurant_name} has served {restaurant.number_served} customers today.\")"
   ]
  },
  {
   "cell_type": "code",
   "execution_count": 32,
   "metadata": {},
   "outputs": [
    {
     "name": "stdout",
     "output_type": "stream",
     "text": [
      "The Bird has served 11 customers today.\n"
     ]
    }
   ],
   "source": [
    "restaurant.set_number_served(11)\n",
    "print(f\"{restaurant.restaurant_name} has served {restaurant.number_served} customers today.\")"
   ]
  },
  {
   "cell_type": "code",
   "execution_count": 34,
   "metadata": {},
   "outputs": [
    {
     "name": "stdout",
     "output_type": "stream",
     "text": [
      "The Bird has served 31 customers today.\n"
     ]
    }
   ],
   "source": [
    "restaurant.increment_number_served(20)\n",
    "print(f\"{restaurant.restaurant_name} has served {restaurant.number_served} customers today.\")"
   ]
  },
  {
   "cell_type": "markdown",
   "metadata": {},
   "source": [
    "**9-5. Login Attempts**"
   ]
  },
  {
   "cell_type": "code",
   "execution_count": 36,
   "metadata": {},
   "outputs": [],
   "source": [
    "class User:\n",
    "    \"\"\"A model of a user profile\"\"\"\n",
    "    def __init__(self, first_name, last_name, location):\n",
    "        \"\"\"Initialize attributes\"\"\"\n",
    "        self.first_name = first_name.title()\n",
    "        self.last_name = last_name.title()\n",
    "        self.location = location.title()\n",
    "        self.login_attempts = 0\n",
    "        \n",
    "    def describe_user(self):\n",
    "        \"\"\"Print user info\"\"\"\n",
    "        print(f\"{self.first_name} {self.last_name} from {self.location}\")\n",
    "    \n",
    "    def greet_user(self):\n",
    "        \"\"\"Prints personalized greeting\"\"\"\n",
    "        print(f\"Hello, {self.first_name} {self.last_name}!\")\n",
    "        \n",
    "    def increment_login_attempts(self):\n",
    "        \"\"\"Increment the the value of login_attempts by 1\"\"\"\n",
    "        self.login_attempts += 1\n",
    "        \n",
    "    def reset_login_attempts(self):\n",
    "        \"\"\"Resets the value of login_attempts to 0\"\"\"\n",
    "        self.login_attempts = 0"
   ]
  },
  {
   "cell_type": "code",
   "execution_count": 39,
   "metadata": {},
   "outputs": [
    {
     "name": "stdout",
     "output_type": "stream",
     "text": [
      "Michelle's amount of login_attempts: 3\n"
     ]
    }
   ],
   "source": [
    "user1 = User('michelle', 'domingo', 'san francisco')\n",
    "user1.increment_login_attempts()\n",
    "user1.increment_login_attempts()\n",
    "user1.increment_login_attempts()\n",
    "print(f\"{user1.first_name}\\'s amount of login_attempts: {user1.login_attempts}\")"
   ]
  },
  {
   "cell_type": "code",
   "execution_count": 40,
   "metadata": {},
   "outputs": [
    {
     "name": "stdout",
     "output_type": "stream",
     "text": [
      "Michelle's amount of login_attempts: 0\n"
     ]
    }
   ],
   "source": [
    "user1.reset_login_attempts()\n",
    "print(f\"{user1.first_name}\\'s amount of login_attempts: {user1.login_attempts}\")"
   ]
  },
  {
   "cell_type": "markdown",
   "metadata": {},
   "source": [
    "**9-6. Ice Cream Stand**"
   ]
  },
  {
   "cell_type": "code",
   "execution_count": 43,
   "metadata": {},
   "outputs": [
    {
     "name": "stdout",
     "output_type": "stream",
     "text": [
      "Salt & Straw sells yummy Ice Cream.\n",
      "Choose from the following flavors:\n",
      "\tChocolate\n",
      "\tStrawberry\n",
      "\tVanilla\n"
     ]
    }
   ],
   "source": [
    "class Restaurant:\n",
    "    \"\"\"Defines a type of restaurant\"\"\"\n",
    "    def __init__(self, restaurant_name, cuisine_type):\n",
    "        \"\"\"Initialize attributes\"\"\"\n",
    "        self.restaurant_name = restaurant_name.title()\n",
    "        self.cuisine_type = cuisine_type.title()\n",
    "        self.number_served = 0\n",
    "    \n",
    "    def describe_restaurant(self):\n",
    "        \"\"\"Prints restaurant info\"\"\"\n",
    "        print(f\"{self.restaurant_name} is a restaurant that serves {self.cuisine_type} cuisine.\")\n",
    "    \n",
    "    def open_restaurant(self):\n",
    "        \"\"\"Prints message indicating restaurant is open.\"\"\"\n",
    "        print(f\"{self.restaurant_name} is now open.\")\n",
    "        \n",
    "    def set_number_served(self, customer_amount):\n",
    "        \"\"\"Set the number of customers who've been served.\"\"\"\n",
    "        if customer_amount >= self.number_served:\n",
    "            self.number_served = customer_amount\n",
    "        else:\n",
    "            print(\"You can't roll back the customer amount!\")\n",
    "            \n",
    "    def increment_number_served(self, increment):\n",
    "        \"\"\"Increment the number of customers who've been served.\"\"\"\n",
    "        if increment >= 0:\n",
    "            self.number_served += increment\n",
    "        else:\n",
    "            print(\"You can't roll back the customer amount!\")\n",
    "\n",
    "class IceCreamStand(Restaurant):\n",
    "    \"\"\"Represents aspects of a Ice Cream Stand\"\"\"\n",
    "    \n",
    "    def __init__(self, restaurant_name, cuisine_type):\n",
    "        \"\"\"\n",
    "        Initialize attributes of the parent class.\n",
    "        Then initialize attributes specific to an Ice Cream Stand.\n",
    "        \"\"\"\n",
    "        super().__init__(restaurant_name, cuisine_type)\n",
    "        self.flavors = [\"chocolate\", \"strawberry\", \"vanilla\"]\n",
    "        \n",
    "    def display_flavors(self):\n",
    "        \"\"\"Print a statement about type of flavors sold.\"\"\"\n",
    "        print(f\"Choose from the following flavors:\")\n",
    "        for flavor in self.flavors:\n",
    "            print(f\"\\t{flavor.title()}\")\n",
    "\n",
    "my_stand = IceCreamStand(\"salt & straw\", \"ice cream\")\n",
    "print(f\"{my_stand.restaurant_name.title()} sells yummy {my_stand.cuisine_type.title()}.\")\n",
    "my_stand.display_flavors()"
   ]
  },
  {
   "cell_type": "markdown",
   "metadata": {},
   "source": [
    "**9-7. Admin**"
   ]
  },
  {
   "cell_type": "code",
   "execution_count": 7,
   "metadata": {},
   "outputs": [
    {
     "name": "stdout",
     "output_type": "stream",
     "text": [
      "Hello, Michelle Domingo!\n",
      "As an admin, you have the following privileges:\n",
      "\tCan Add Post\n",
      "\tCan Delete Post\n",
      "\tCan Ban User\n"
     ]
    }
   ],
   "source": [
    "class User:\n",
    "    \"\"\"A model of a user profile\"\"\"\n",
    "    def __init__(self, first_name, last_name, location):\n",
    "        \"\"\"Initialize attributes\"\"\"\n",
    "        self.first_name = first_name.title()\n",
    "        self.last_name = last_name.title()\n",
    "        self.location = location.title()\n",
    "        self.login_attempts = 0\n",
    "        \n",
    "    def describe_user(self):\n",
    "        \"\"\"Print user info\"\"\"\n",
    "        print(f\"{self.first_name} {self.last_name} from {self.location}\")\n",
    "    \n",
    "    def greet_user(self):\n",
    "        \"\"\"Prints personalized greeting\"\"\"\n",
    "        print(f\"Hello, {self.first_name} {self.last_name}!\")\n",
    "        \n",
    "    def increment_login_attempts(self):\n",
    "        \"\"\"Increment the the value of login_attempts by 1\"\"\"\n",
    "        self.login_attempts += 1\n",
    "        \n",
    "    def reset_login_attempts(self):\n",
    "        \"\"\"Resets the value of login_attempts to 0\"\"\"\n",
    "        self.login_attempts = 0\n",
    "\n",
    "class Admin(User):\n",
    "    \"\"\"Represents aspects of an Administrator.\"\"\"\n",
    "    \n",
    "    def __init__(self, first_name, last_name, location):\n",
    "        \"\"\"\n",
    "        Initialize attributes of the parent class.\n",
    "        Then initialize attributes of the Admin class.\n",
    "        \"\"\"\n",
    "        super().__init__(first_name, last_name, location)\n",
    "        self.privileges = [\"can add post\", \"can delete post\", \"can ban user\"]\n",
    "        \n",
    "    def show_privileges(self):\n",
    "        \"\"\"Print a statement that lists admin privileges.\"\"\"\n",
    "        print(f\"As an admin, you have the following privileges:\")\n",
    "        for p in self.privileges:\n",
    "            print(f\"\\t{p.title()}\")\n",
    "\n",
    "admin = Admin(\"michelle\", \"domingo\", \"san francisco\")\n",
    "admin.greet_user()\n",
    "admin.show_privileges()"
   ]
  },
  {
   "cell_type": "markdown",
   "metadata": {},
   "source": [
    "**9-8. Privileges**"
   ]
  },
  {
   "cell_type": "code",
   "execution_count": 7,
   "metadata": {},
   "outputs": [
    {
     "name": "stdout",
     "output_type": "stream",
     "text": [
      "Hello, Michelle Domingo!\n",
      "As an admin, you have the following privileges:\n",
      "\tCan Add Post\n",
      "\tCan Delete Post\n",
      "\tCan Ban User\n"
     ]
    }
   ],
   "source": [
    "class User:\n",
    "    \"\"\"A model of a user profile\"\"\"\n",
    "    def __init__(self, first_name, last_name, location):\n",
    "        \"\"\"Initialize attributes\"\"\"\n",
    "        self.first_name = first_name.title()\n",
    "        self.last_name = last_name.title()\n",
    "        self.location = location.title()\n",
    "        self.login_attempts = 0\n",
    "        \n",
    "    def describe_user(self):\n",
    "        \"\"\"Print user info\"\"\"\n",
    "        print(f\"{self.first_name} {self.last_name} from {self.location}\")\n",
    "    \n",
    "    def greet_user(self):\n",
    "        \"\"\"Prints personalized greeting\"\"\"\n",
    "        print(f\"Hello, {self.first_name} {self.last_name}!\")\n",
    "        \n",
    "    def increment_login_attempts(self):\n",
    "        \"\"\"Increment the the value of login_attempts by 1\"\"\"\n",
    "        self.login_attempts += 1\n",
    "        \n",
    "    def reset_login_attempts(self):\n",
    "        \"\"\"Resets the value of login_attempts to 0\"\"\"\n",
    "        self.login_attempts = 0\n",
    "\n",
    "class Privileges:\n",
    "    \"\"\"Represents privileges granted to an Administrator.\"\"\"\n",
    "    \n",
    "    def __init__(self, first_name, last_name, location):\n",
    "        \"\"\"\n",
    "        Initialize attributes of the parent class.\n",
    "        Then initialize attributes of the Admin class.\n",
    "        \"\"\"\n",
    "        self.privileges = [\"can add post\", \"can delete post\", \"can ban user\"]\n",
    "        \n",
    "    def show_privileges(self):\n",
    "        \"\"\"Print a statement that lists admin privileges.\"\"\"\n",
    "        print(f\"As an admin, you have the following privileges:\")\n",
    "        for p in self.privileges:\n",
    "            print(f\"\\t{p.title()}\")        \n",
    "\n",
    "class Admin(User):\n",
    "    \"\"\"Represents aspects of an Administrator.\"\"\"\n",
    "    \n",
    "    def __init__(self, first_name, last_name, location):\n",
    "        \"\"\"\n",
    "        Initialize attributes of the parent class.\n",
    "        Then initialize attributes of the Admin class.\n",
    "        \"\"\"\n",
    "        super().__init__(first_name, last_name, location)\n",
    "        self.privileges = [\"can add post\", \"can delete post\", \"can ban user\"]\n",
    "        \n",
    "    def show_privileges(self):\n",
    "        \"\"\"Print a statement that lists admin privileges.\"\"\"\n",
    "        print(f\"As an admin, you have the following privileges:\")\n",
    "        for p in self.privileges:\n",
    "            print(f\"\\t{p.title()}\")\n",
    "\n",
    "admin = Admin(\"michelle\", \"domingo\", \"san francisco\")\n",
    "admin.greet_user()\n",
    "admin.show_privileges()"
   ]
  },
  {
   "cell_type": "markdown",
   "metadata": {},
   "source": [
    "**9-9. Battery Upgrade**"
   ]
  },
  {
   "cell_type": "code",
   "execution_count": null,
   "metadata": {},
   "outputs": [],
   "source": []
  },
  {
   "cell_type": "code",
   "execution_count": null,
   "metadata": {},
   "outputs": [],
   "source": []
  }
 ],
 "metadata": {
  "kernelspec": {
   "display_name": "Python 3",
   "language": "python",
   "name": "python3"
  },
  "language_info": {
   "codemirror_mode": {
    "name": "ipython",
    "version": 3
   },
   "file_extension": ".py",
   "mimetype": "text/x-python",
   "name": "python",
   "nbconvert_exporter": "python",
   "pygments_lexer": "ipython3",
   "version": "3.7.6"
  }
 },
 "nbformat": 4,
 "nbformat_minor": 4
}
