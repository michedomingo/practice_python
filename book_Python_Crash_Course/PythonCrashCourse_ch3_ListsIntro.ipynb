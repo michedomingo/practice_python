{
 "cells": [
  {
   "cell_type": "markdown",
   "metadata": {},
   "source": [
    "# Chapter 3 - Introducing Lists"
   ]
  },
  {
   "cell_type": "markdown",
   "metadata": {},
   "source": [
    "### Accessing Elements in a List (p.34)"
   ]
  },
  {
   "cell_type": "code",
   "execution_count": 32,
   "metadata": {},
   "outputs": [
    {
     "name": "stdout",
     "output_type": "stream",
     "text": [
      "2\n"
     ]
    }
   ],
   "source": [
    "# Python considers the first item in a list to be at position 0 (not position 1)\n",
    "numbers = [1 , 2, 3]\n",
    "print(numbers[1])"
   ]
  },
  {
   "cell_type": "code",
   "execution_count": 44,
   "metadata": {},
   "outputs": [
    {
     "name": "stdout",
     "output_type": "stream",
     "text": [
      "2\n"
     ]
    }
   ],
   "source": [
    "# Accessing a tuple in list\n",
    "numbers = [(1, 2) , (2, 3)]\n",
    "print(numbers[0][1])"
   ]
  },
  {
   "cell_type": "code",
   "execution_count": 1,
   "metadata": {},
   "outputs": [
    {
     "name": "stdout",
     "output_type": "stream",
     "text": [
      "suzuki\n"
     ]
    }
   ],
   "source": [
    "# Use index -1 to access last item in a list\n",
    "motorcycles = ['honda', 'yamaha', 'suzuki']\n",
    "print(motorcycles[-1])"
   ]
  },
  {
   "cell_type": "markdown",
   "metadata": {},
   "source": [
    "### Modifying Elements in a List (p.36)"
   ]
  },
  {
   "cell_type": "code",
   "execution_count": 2,
   "metadata": {},
   "outputs": [
    {
     "name": "stdout",
     "output_type": "stream",
     "text": [
      "['honda', 'yamaha', 'suzuki']\n",
      "['honda', 'ducati', 'suzuki']\n"
     ]
    }
   ],
   "source": [
    "# To change an element, use the name of the list followed by the index of the element, then provide new value\n",
    "print(motorcycles)\n",
    "motorcycles[1] = 'ducati'\n",
    "print(motorcycles)"
   ]
  },
  {
   "cell_type": "markdown",
   "metadata": {},
   "source": [
    "---\n",
    "# Adding Elements in a List"
   ]
  },
  {
   "cell_type": "markdown",
   "metadata": {},
   "source": [
    "### append() method - simplest way to add new element to end of the list and build lists dynamically (p.37-38)"
   ]
  },
  {
   "cell_type": "code",
   "execution_count": 26,
   "metadata": {},
   "outputs": [
    {
     "name": "stdout",
     "output_type": "stream",
     "text": [
      "['honda', 'yamaha', 'suzuki']\n",
      "['honda', 'yamaha', 'suzuki', 'ducati']\n"
     ]
    }
   ],
   "source": [
    "motorcycles = ['honda', 'yamaha', 'suzuki']\n",
    "print(motorcycles)\n",
    "motorcycles.append('ducati')\n",
    "print(motorcycles)"
   ]
  },
  {
   "cell_type": "code",
   "execution_count": 27,
   "metadata": {},
   "outputs": [
    {
     "name": "stdout",
     "output_type": "stream",
     "text": [
      "['honda', 'yamaha', 'suzuki']\n"
     ]
    }
   ],
   "source": [
    "motorcycles = []\n",
    "\n",
    "motorcycles.append('honda')\n",
    "motorcycles.append('yamaha')\n",
    "motorcycles.append('suzuki')\n",
    "\n",
    "print(motorcycles)"
   ]
  },
  {
   "cell_type": "markdown",
   "metadata": {},
   "source": [
    "### insert() method - add new element at any position by specifying index of new element and value of new item (p.38)"
   ]
  },
  {
   "cell_type": "code",
   "execution_count": 28,
   "metadata": {},
   "outputs": [
    {
     "name": "stdout",
     "output_type": "stream",
     "text": [
      "['ducati', 'honda', 'yamaha', 'suzuki']\n"
     ]
    }
   ],
   "source": [
    "motorcycles.insert(0, 'ducati')\n",
    "print(motorcycles)"
   ]
  },
  {
   "cell_type": "markdown",
   "metadata": {},
   "source": [
    "---\n",
    "# Removing Elements in a List \n",
    "\n",
    "* if you want to delete an item and NOT use it in any way - use del() statement\n",
    "* if you want to use an item as you remove it - use pop() method\n",
    "* if you want to use an item as you remove it, but don't know the location - use remove() method by value"
   ]
  },
  {
   "cell_type": "markdown",
   "metadata": {},
   "source": [
    "### del() Statement - remove item from a position (p.39)\n",
    "* permanently removes from list\n",
    "* unable to access value when removed with del Statement"
   ]
  },
  {
   "cell_type": "code",
   "execution_count": 29,
   "metadata": {},
   "outputs": [
    {
     "name": "stdout",
     "output_type": "stream",
     "text": [
      "['yamaha', 'suzuki']\n"
     ]
    }
   ],
   "source": [
    "motorcycles = ['honda', 'yamaha', 'suzuki']\n",
    "del motorcycles[0]\n",
    "print(motorcycles)"
   ]
  },
  {
   "cell_type": "markdown",
   "metadata": {},
   "source": [
    "### pop() method - remove value from end of list (p.39)\n",
    "* permanently removes from list\n",
    "* but lets you work with that item after removing it\n",
    "* the term pop comes from popping one item off the top of the stack of items"
   ]
  },
  {
   "cell_type": "code",
   "execution_count": 41,
   "metadata": {},
   "outputs": [
    {
     "name": "stdout",
     "output_type": "stream",
     "text": [
      "['honda', 'yamaha', 'suzuki']\n",
      "suzuki\n",
      "['honda', 'yamaha']\n"
     ]
    }
   ],
   "source": [
    "motorcycles = ['honda', 'yamaha', 'suzuki']\n",
    "print(motorcycles)\n",
    "\n",
    "popped_motorcycle = motorcycles.pop()\n",
    "print(popped_motorcycle)\n",
    "print(motorcycles)"
   ]
  },
  {
   "cell_type": "markdown",
   "metadata": {},
   "source": [
    "* example: use pop() method to print a sentence about the last motorcycle purchased"
   ]
  },
  {
   "cell_type": "code",
   "execution_count": 2,
   "metadata": {},
   "outputs": [
    {
     "name": "stdout",
     "output_type": "stream",
     "text": [
      "['honda', 'yamaha', 'suzuki']\n",
      "The last motorcycle I owned was a Suzuki.\n",
      "['honda', 'yamaha']\n"
     ]
    }
   ],
   "source": [
    "motorcycles = ['honda', 'yamaha', 'suzuki']\n",
    "print(motorcycles)\n",
    "last_owned = motorcycles.pop()\n",
    "print(f\"The last motorcycle I owned was a {last_owned.title()}.\")\n",
    "print(motorcycles)"
   ]
  },
  {
   "cell_type": "markdown",
   "metadata": {},
   "source": [
    "### pop() method - remove items from any position in a list (p.40)\n",
    "* permanently removes from list\n",
    "* but lets you work with that item after removing it"
   ]
  },
  {
   "cell_type": "code",
   "execution_count": 3,
   "metadata": {},
   "outputs": [
    {
     "name": "stdout",
     "output_type": "stream",
     "text": [
      "['honda', 'yamaha']\n",
      "The first motorcycle I owned was a Honda.\n",
      "['yamaha']\n"
     ]
    }
   ],
   "source": [
    "print(motorcycles)\n",
    "first_owned = motorcycles.pop(0)\n",
    "print(f\"The first motorcycle I owned was a {first_owned.title()}.\")\n",
    "print(motorcycles)"
   ]
  },
  {
   "cell_type": "markdown",
   "metadata": {},
   "source": [
    "### remove() method - remove an item by value (p.41)\n",
    "* helpful if you don't know the position of the value you want to remove\n",
    "* permanently removes from list but lets you work with that item after removing it\n",
    "* deletes only the first occurence of the value specified\n",
    "    * need to use a loop to make sure all occurences are removed"
   ]
  },
  {
   "cell_type": "code",
   "execution_count": 7,
   "metadata": {},
   "outputs": [
    {
     "name": "stdout",
     "output_type": "stream",
     "text": [
      "['honda', 'yamaha', 'suzuki', 'ducati']\n",
      "\n",
      "A Ducati is too expensive for me.\n",
      "\n",
      "['honda', 'yamaha', 'suzuki']\n"
     ]
    }
   ],
   "source": [
    "motorcycles = ['honda', 'yamaha', 'suzuki', 'ducati']\n",
    "print(motorcycles)\n",
    "too_expensive = 'ducati'\n",
    "motorcycles.remove(too_expensive)\n",
    "print(f\"\\nA {too_expensive.title()} is too expensive for me.\\n\")\n",
    "print(motorcycles)\n"
   ]
  },
  {
   "cell_type": "code",
   "execution_count": 4,
   "metadata": {},
   "outputs": [
    {
     "name": "stdout",
     "output_type": "stream",
     "text": [
      "['honda', 'yamaha', 'suzuki', 'ducati']\n",
      "['honda', 'yamaha', 'ducati']\n"
     ]
    }
   ],
   "source": [
    "motorcycles = ['honda', 'yamaha', 'suzuki', 'ducati']\n",
    "print(motorcycles)\n",
    "\n",
    "motorcycles.remove('suzuki')\n",
    "print(motorcycles)\n"
   ]
  },
  {
   "cell_type": "markdown",
   "metadata": {},
   "source": [
    "---\n",
    "# Organizing a List \n",
    "* note: sorting is a bit more complicated when all values are not in lowercase"
   ]
  },
  {
   "cell_type": "markdown",
   "metadata": {},
   "source": [
    "### sort() method - sort list permanently (p.43)\n",
    "* changes to alphabetical order"
   ]
  },
  {
   "cell_type": "code",
   "execution_count": 146,
   "metadata": {},
   "outputs": [
    {
     "name": "stdout",
     "output_type": "stream",
     "text": [
      "['audi', 'bmw', 'subaru', 'toyota']\n"
     ]
    }
   ],
   "source": [
    "cars = ['bmw', 'audi', 'toyota', 'subaru']\n",
    "cars.sort()\n",
    "print(cars)"
   ]
  },
  {
   "cell_type": "markdown",
   "metadata": {},
   "source": [
    "<br></br>\n",
    "* list in reverse alphabetical order"
   ]
  },
  {
   "cell_type": "code",
   "execution_count": 149,
   "metadata": {},
   "outputs": [
    {
     "name": "stdout",
     "output_type": "stream",
     "text": [
      "['toyota', 'subaru', 'bmw', 'audi']\n"
     ]
    }
   ],
   "source": [
    "cars.sort(reverse=True)\n",
    "print(cars)"
   ]
  },
  {
   "cell_type": "markdown",
   "metadata": {},
   "source": [
    "### sorted() Function - sort list temporarily (p.44)\n",
    "* maintain the original order but present it in a sorted order\n",
    "* can also accept a reverse=True argument to list in reverse alphabetical order"
   ]
  },
  {
   "cell_type": "code",
   "execution_count": 153,
   "metadata": {},
   "outputs": [
    {
     "name": "stdout",
     "output_type": "stream",
     "text": [
      "\n",
      "Here is the original list: ['bmw', 'audi', 'toyota', 'subaru']\n",
      "\n",
      "Here is the sorted list: ['toyota', 'subaru', 'bmw', 'audi']\n",
      "\n",
      "Here is the sorted list in reverse: ['audi', 'bmw', 'subaru', 'toyota']\n",
      "\n",
      "Here is the original list again: ['bmw', 'audi', 'toyota', 'subaru']\n"
     ]
    }
   ],
   "source": [
    "cars = ['bmw', 'audi', 'toyota', 'subaru']\n",
    "print(f\"\\nHere is the original list: {cars}\")\n",
    "print(f\"\\nHere is the sorted list: {sorted(cars, reverse=True)}\")\n",
    "print(f\"\\nHere is the sorted list in reverse: {sorted(cars)}\")\n",
    "print(f\"\\nHere is the original list again: {cars}\")"
   ]
  },
  {
   "cell_type": "markdown",
   "metadata": {},
   "source": [
    "### reverse() method - reverse list permanently (p.45)\n",
    "* rearrange list into reverse chronological order"
   ]
  },
  {
   "cell_type": "code",
   "execution_count": 155,
   "metadata": {},
   "outputs": [
    {
     "name": "stdout",
     "output_type": "stream",
     "text": [
      "['bmw', 'audi', 'toyota', 'subaru']\n",
      "['subaru', 'toyota', 'audi', 'bmw']\n",
      "['bmw', 'audi', 'toyota', 'subaru']\n"
     ]
    }
   ],
   "source": [
    "print(cars)\n",
    "cars.reverse()\n",
    "print(cars)\n",
    "cars.reverse()\n",
    "print(cars)"
   ]
  },
  {
   "cell_type": "markdown",
   "metadata": {},
   "source": [
    "### len() Function - find the length of a list (p.45)\n",
    "* Python counts list items starting with one (1), prevents off-by-one errors\n",
    "* ex) identify # of aliens left to shoot down in game, determine amount of data to manage in visualization, \n",
    "    figure out # of registered users on a website, etc"
   ]
  },
  {
   "cell_type": "code",
   "execution_count": 1,
   "metadata": {},
   "outputs": [
    {
     "data": {
      "text/plain": [
       "4"
      ]
     },
     "execution_count": 1,
     "metadata": {},
     "output_type": "execute_result"
    }
   ],
   "source": [
    "cars = ['bmw', 'audi', 'toyota', 'subaru']\n",
    "len(cars)"
   ]
  },
  {
   "cell_type": "markdown",
   "metadata": {},
   "source": [
    "---\n",
    "# Practice Problems"
   ]
  },
  {
   "cell_type": "markdown",
   "metadata": {},
   "source": [
    "p.42-43"
   ]
  },
  {
   "cell_type": "markdown",
   "metadata": {},
   "source": [
    "**3-4. Guest List**"
   ]
  },
  {
   "cell_type": "code",
   "execution_count": 96,
   "metadata": {},
   "outputs": [
    {
     "name": "stdout",
     "output_type": "stream",
     "text": [
      "['rhadika', 'william', 'andie']\n",
      "\n",
      "You're invited to dinner, Andie!\n",
      "You're invited to dinner, Andie!\n",
      "\n",
      "You're invited to dinner, William!\n",
      "You're invited to dinner, William!\n",
      "\n",
      "You're invited to dinner, Rhadika!\n",
      "You're invited to dinner, Rhadika!\n",
      "\n",
      "[]\n"
     ]
    }
   ],
   "source": [
    "guest_list = ['rhadika', 'william', 'andie']\n",
    "print(guest_list)\n",
    "print(f\"\\nYou're invited to dinner, {guest_list[2].title()}!\")\n",
    "guest = guest_list.pop()\n",
    "print(f\"You're invited to dinner, {guest.title()}!\")\n",
    "print(f\"\\nYou're invited to dinner, {guest_list[1].title()}!\")\n",
    "guest = guest_list.pop()\n",
    "print(f\"You're invited to dinner, {guest.title()}!\")\n",
    "print(f\"\\nYou're invited to dinner, {guest_list[0].title()}!\")\n",
    "guest = guest_list.pop()\n",
    "print(f\"You're invited to dinner, {guest.title()}!\")\n",
    "print(f\"\\n{guest_list}\")"
   ]
  },
  {
   "cell_type": "code",
   "execution_count": 122,
   "metadata": {},
   "outputs": [
    {
     "name": "stdout",
     "output_type": "stream",
     "text": [
      "\n",
      "You're invited to dinner, Rhadika!\n",
      "\n",
      "You're invited to dinner, William!\n",
      "\n",
      "You're invited to dinner, Andie!\n"
     ]
    }
   ],
   "source": [
    "guest_list = ['rhadika', 'william', 'andie']\n",
    "for guest in guest_list:\n",
    "    print(f\"\\nYou're invited to dinner, {guest.title()}!\")"
   ]
  },
  {
   "cell_type": "markdown",
   "metadata": {},
   "source": [
    "---\n",
    "**3-5. Changing Guest List**"
   ]
  },
  {
   "cell_type": "code",
   "execution_count": 135,
   "metadata": {},
   "outputs": [
    {
     "name": "stdout",
     "output_type": "stream",
     "text": [
      "['rhadika', 'william', 'andie']\n",
      "\n",
      "Aww shucks, Andie can't make it!\n",
      "\n",
      "You're invited to dinner, Rhadika!\n",
      "\n",
      "You're invited to dinner, William!\n",
      "\n",
      "You're invited to dinner, Vinay!\n",
      "['rhadika', 'william', 'vinay']\n"
     ]
    }
   ],
   "source": [
    "guest_list = ['rhadika', 'william', 'andie']\n",
    "print(guest_list)\n",
    "print(f\"\\nAww shucks, {guest_list[2].title()} can't make it!\")\n",
    "guest_list[2] = 'vinay'\n",
    "for guest in guest_list:\n",
    "    print(f\"\\nYou're invited to dinner, {guest.title()}!\")\n",
    "print(guest_list)  "
   ]
  },
  {
   "cell_type": "markdown",
   "metadata": {},
   "source": [
    "---\n",
    "**3-6. More Guests**"
   ]
  },
  {
   "cell_type": "code",
   "execution_count": 136,
   "metadata": {},
   "outputs": [
    {
     "name": "stdout",
     "output_type": "stream",
     "text": [
      "['rhadika', 'william', 'vinay']\n"
     ]
    }
   ],
   "source": [
    "print(guest_list) "
   ]
  },
  {
   "cell_type": "code",
   "execution_count": 137,
   "metadata": {},
   "outputs": [
    {
     "name": "stdout",
     "output_type": "stream",
     "text": [
      "['rhadika', 'william', 'vinay']\n",
      "I found a bigger table!\n",
      "['tracy', 'rhadika', 'corinne', 'william', 'vinay', 'brian']\n",
      "\n",
      "You're invited to dinner, Tracy!\n",
      "\n",
      "You're invited to dinner, Rhadika!\n",
      "\n",
      "You're invited to dinner, Corinne!\n",
      "\n",
      "You're invited to dinner, William!\n",
      "\n",
      "You're invited to dinner, Vinay!\n",
      "\n",
      "You're invited to dinner, Brian!\n"
     ]
    }
   ],
   "source": [
    "print(guest_list)\n",
    "print('I found a bigger table!')\n",
    "guest_list.insert(0, 'tracy')\n",
    "guest_list.insert(2, 'corinne')\n",
    "guest_list.append('brian')\n",
    "print(guest_list)\n",
    "for guest in guest_list:\n",
    "    print(f\"\\nYou're invited to dinner, {guest.title()}!\")"
   ]
  },
  {
   "cell_type": "markdown",
   "metadata": {},
   "source": [
    "---\n",
    "**3-7. Shrinking Guest List**"
   ]
  },
  {
   "cell_type": "code",
   "execution_count": 138,
   "metadata": {},
   "outputs": [
    {
     "name": "stdout",
     "output_type": "stream",
     "text": [
      "['tracy', 'rhadika', 'corinne', 'william', 'vinay', 'brian']\n"
     ]
    }
   ],
   "source": [
    "print(guest_list)\n"
   ]
  },
  {
   "cell_type": "code",
   "execution_count": 139,
   "metadata": {},
   "outputs": [
    {
     "name": "stdout",
     "output_type": "stream",
     "text": [
      "My new dinner table won't arrive on time :(\n",
      "\n",
      "My bad Corinne, I can't invite you to dinner\n",
      "\n",
      "My bad William, I can't invite you to dinner\n",
      "\n",
      "My bad Vinay, I can't invite you to dinner\n",
      "\n",
      "My bad Brian, I can't invite you to dinner\n",
      "\n",
      "tracy, you're still invited\n",
      "\n",
      "rhadika, you're still invited\n",
      "[]\n"
     ]
    }
   ],
   "source": [
    "print('My new dinner table won\\'t arrive on time :(')\n",
    "for guest in guest_list[2:]:\n",
    "    guest_list.pop()\n",
    "    print(f\"\\nMy bad {guest.title()}, I can't invite you to dinner\")\n",
    "for guest in guest_list:\n",
    "    \"\"\"i = 0\"\"\"\n",
    "    print(f\"\\n{guest}, you're still invited\")\n",
    "    \"\"\"del guest_list[i]\"\"\"\n",
    "del guest_list[0]\n",
    "del guest_list[0]\n",
    "print(guest_list)"
   ]
  },
  {
   "cell_type": "markdown",
   "metadata": {},
   "source": [
    "---\n",
    "p.46<br><br></br>\n",
    "**3-8. Seeing the World**"
   ]
  },
  {
   "cell_type": "code",
   "execution_count": 21,
   "metadata": {},
   "outputs": [
    {
     "name": "stdout",
     "output_type": "stream",
     "text": [
      "['great barrier reef, australia', 'capetown, south africa', 'tokyo, japan', 'athens, greece', 'barcelona, spain']\n"
     ]
    }
   ],
   "source": [
    "places = ['great barrier reef, australia', 'capetown, south africa', 'tokyo, japan', 'athens, greece', 'barcelona, spain']\n",
    "print(places)"
   ]
  },
  {
   "cell_type": "code",
   "execution_count": 22,
   "metadata": {},
   "outputs": [
    {
     "name": "stdout",
     "output_type": "stream",
     "text": [
      "['athens, greece', 'barcelona, spain', 'capetown, south africa', 'great barrier reef, australia', 'tokyo, japan']\n",
      "['tokyo, japan', 'great barrier reef, australia', 'capetown, south africa', 'barcelona, spain', 'athens, greece']\n",
      "['great barrier reef, australia', 'capetown, south africa', 'tokyo, japan', 'athens, greece', 'barcelona, spain']\n"
     ]
    }
   ],
   "source": [
    "print(sorted(places))\n",
    "print(sorted(places, reverse=True))\n",
    "print(places)"
   ]
  },
  {
   "cell_type": "code",
   "execution_count": 23,
   "metadata": {},
   "outputs": [
    {
     "name": "stdout",
     "output_type": "stream",
     "text": [
      "['barcelona, spain', 'athens, greece', 'tokyo, japan', 'capetown, south africa', 'great barrier reef, australia']\n",
      "['great barrier reef, australia', 'capetown, south africa', 'tokyo, japan', 'athens, greece', 'barcelona, spain']\n"
     ]
    }
   ],
   "source": [
    "places.reverse()\n",
    "print(places)\n",
    "places.reverse()\n",
    "print(places)"
   ]
  },
  {
   "cell_type": "code",
   "execution_count": 27,
   "metadata": {},
   "outputs": [
    {
     "name": "stdout",
     "output_type": "stream",
     "text": [
      "['athens, greece', 'barcelona, spain', 'capetown, south africa', 'great barrier reef, australia', 'tokyo, japan']\n",
      "['tokyo, japan', 'great barrier reef, australia', 'capetown, south africa', 'barcelona, spain', 'athens, greece']\n"
     ]
    }
   ],
   "source": [
    "places.sort()\n",
    "print(places)\n",
    "places.sort(reverse=True)\n",
    "print(places)"
   ]
  },
  {
   "cell_type": "markdown",
   "metadata": {},
   "source": [
    "---\n",
    "**3-9. Dinner Guests**"
   ]
  },
  {
   "cell_type": "code",
   "execution_count": 30,
   "metadata": {},
   "outputs": [
    {
     "data": {
      "text/plain": [
       "6"
      ]
     },
     "execution_count": 30,
     "metadata": {},
     "output_type": "execute_result"
    }
   ],
   "source": [
    "guest_list = ['tracy', 'rhadika', 'corinne', 'william', 'vinay', 'brian']\n",
    "len(guest_list)"
   ]
  },
  {
   "cell_type": "code",
   "execution_count": 31,
   "metadata": {},
   "outputs": [
    {
     "name": "stdout",
     "output_type": "stream",
     "text": [
      "\n",
      "I'm inviting 6 guests to dinner.\n",
      "\n"
     ]
    }
   ],
   "source": [
    "print(f\"\\nI'm inviting {len(guest_list)} guests to dinner.\\n\")"
   ]
  },
  {
   "cell_type": "markdown",
   "metadata": {},
   "source": [
    "---\n",
    "**3-10. Every Function**\n",
    "(pending)"
   ]
  },
  {
   "cell_type": "code",
   "execution_count": null,
   "metadata": {},
   "outputs": [],
   "source": []
  },
  {
   "cell_type": "code",
   "execution_count": null,
   "metadata": {},
   "outputs": [],
   "source": []
  }
 ],
 "metadata": {
  "kernelspec": {
   "display_name": "Python 3",
   "language": "python",
   "name": "python3"
  },
  "language_info": {
   "codemirror_mode": {
    "name": "ipython",
    "version": 3
   },
   "file_extension": ".py",
   "mimetype": "text/x-python",
   "name": "python",
   "nbconvert_exporter": "python",
   "pygments_lexer": "ipython3",
   "version": "3.7.6"
  }
 },
 "nbformat": 4,
 "nbformat_minor": 4
}
